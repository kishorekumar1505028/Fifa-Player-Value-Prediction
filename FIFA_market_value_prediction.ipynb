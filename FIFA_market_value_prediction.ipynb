{
  "nbformat": 4,
  "nbformat_minor": 0,
  "metadata": {
    "colab": {
      "name": "FIFA market value prediction.ipynb",
      "provenance": [],
      "collapsed_sections": []
    },
    "kernelspec": {
      "name": "python3",
      "display_name": "Python 3"
    }
  },
  "cells": [
    {
      "cell_type": "code",
      "metadata": {
        "colab": {
          "base_uri": "https://localhost:8080/"
        },
        "id": "K8k6jQWmfa6Z",
        "outputId": "0724da07-3c7b-4815-e61a-e6aa4e25a411"
      },
      "source": [
        "!pip install eli5"
      ],
      "execution_count": null,
      "outputs": [
        {
          "output_type": "stream",
          "text": [
            "Collecting eli5\n",
            "\u001b[?25l  Downloading https://files.pythonhosted.org/packages/97/2f/c85c7d8f8548e460829971785347e14e45fa5c6617da374711dec8cb38cc/eli5-0.10.1-py2.py3-none-any.whl (105kB)\n",
            "\r\u001b[K     |███                             | 10kB 15.8MB/s eta 0:00:01\r\u001b[K     |██████▏                         | 20kB 14.9MB/s eta 0:00:01\r\u001b[K     |█████████▎                      | 30kB 11.1MB/s eta 0:00:01\r\u001b[K     |████████████▍                   | 40kB 9.0MB/s eta 0:00:01\r\u001b[K     |███████████████▌                | 51kB 4.4MB/s eta 0:00:01\r\u001b[K     |██████████████████▋             | 61kB 4.9MB/s eta 0:00:01\r\u001b[K     |█████████████████████▊          | 71kB 5.0MB/s eta 0:00:01\r\u001b[K     |████████████████████████▊       | 81kB 5.3MB/s eta 0:00:01\r\u001b[K     |███████████████████████████▉    | 92kB 5.7MB/s eta 0:00:01\r\u001b[K     |███████████████████████████████ | 102kB 5.7MB/s eta 0:00:01\r\u001b[K     |████████████████████████████████| 112kB 5.7MB/s \n",
            "\u001b[?25hRequirement already satisfied: tabulate>=0.7.7 in /usr/local/lib/python3.6/dist-packages (from eli5) (0.8.7)\n",
            "Requirement already satisfied: jinja2 in /usr/local/lib/python3.6/dist-packages (from eli5) (2.11.2)\n",
            "Requirement already satisfied: six in /usr/local/lib/python3.6/dist-packages (from eli5) (1.15.0)\n",
            "Requirement already satisfied: scikit-learn>=0.18 in /usr/local/lib/python3.6/dist-packages (from eli5) (0.22.2.post1)\n",
            "Requirement already satisfied: graphviz in /usr/local/lib/python3.6/dist-packages (from eli5) (0.10.1)\n",
            "Requirement already satisfied: numpy>=1.9.0 in /usr/local/lib/python3.6/dist-packages (from eli5) (1.19.4)\n",
            "Requirement already satisfied: scipy in /usr/local/lib/python3.6/dist-packages (from eli5) (1.4.1)\n",
            "Requirement already satisfied: attrs>16.0.0 in /usr/local/lib/python3.6/dist-packages (from eli5) (20.3.0)\n",
            "Requirement already satisfied: MarkupSafe>=0.23 in /usr/local/lib/python3.6/dist-packages (from jinja2->eli5) (1.1.1)\n",
            "Requirement already satisfied: joblib>=0.11 in /usr/local/lib/python3.6/dist-packages (from scikit-learn>=0.18->eli5) (1.0.0)\n",
            "Installing collected packages: eli5\n",
            "Successfully installed eli5-0.10.1\n"
          ],
          "name": "stdout"
        }
      ]
    },
    {
      "cell_type": "code",
      "metadata": {
        "id": "6rm8pW2jZ3FH",
        "colab": {
          "base_uri": "https://localhost:8080/"
        },
        "outputId": "35e94c73-4ee3-4d43-9432-5284509cc995"
      },
      "source": [
        "import numpy as np\n",
        "import pandas as pd\n",
        "import seaborn as sns\n",
        "import matplotlib.pyplot as plt\n",
        "import eli5\n",
        "from eli5.sklearn import PermutationImportance\n",
        "from collections import Counter\n",
        "import missingno as msno\n",
        "from collections import defaultdict\n",
        "\n",
        "import csv\n",
        "import warnings\n",
        "warnings.filterwarnings('ignore')\n",
        "import plotly\n",
        "sns.set_style('darkgrid')"
      ],
      "execution_count": null,
      "outputs": [
        {
          "output_type": "stream",
          "text": [
            "/usr/local/lib/python3.6/dist-packages/sklearn/utils/deprecation.py:144: FutureWarning: The sklearn.metrics.scorer module is  deprecated in version 0.22 and will be removed in version 0.24. The corresponding classes / functions should instead be imported from sklearn.metrics. Anything that cannot be imported from sklearn.metrics is now part of the private API.\n",
            "  warnings.warn(message, FutureWarning)\n",
            "/usr/local/lib/python3.6/dist-packages/sklearn/utils/deprecation.py:144: FutureWarning: The sklearn.feature_selection.base module is  deprecated in version 0.22 and will be removed in version 0.24. The corresponding classes / functions should instead be imported from sklearn.feature_selection. Anything that cannot be imported from sklearn.feature_selection is now part of the private API.\n",
            "  warnings.warn(message, FutureWarning)\n"
          ],
          "name": "stderr"
        }
      ]
    },
    {
      "cell_type": "code",
      "metadata": {
        "id": "b4uKfZCeeq0p",
        "colab": {
          "base_uri": "https://localhost:8080/"
        },
        "outputId": "b0975d2c-9bfe-432b-ee9b-955f3dbb32d6"
      },
      "source": [
        "from google.colab import drive\n",
        "drive.mount('/content/drive')"
      ],
      "execution_count": null,
      "outputs": [
        {
          "output_type": "stream",
          "text": [
            "Mounted at /content/drive\n"
          ],
          "name": "stdout"
        }
      ]
    },
    {
      "cell_type": "code",
      "metadata": {
        "id": "2ourDhgJf6AV"
      },
      "source": [
        "df = pd.read_csv('/content/drive/My Drive/Fifa 19/data.csv', index_col = False)\n"
      ],
      "execution_count": null,
      "outputs": []
    },
    {
      "cell_type": "code",
      "metadata": {
        "id": "SmZyjZ4YgEp8",
        "colab": {
          "base_uri": "https://localhost:8080/"
        },
        "outputId": "ee6bc194-ce95-4a91-b2de-e05484dbf41c"
      },
      "source": [
        "df.shape"
      ],
      "execution_count": null,
      "outputs": [
        {
          "output_type": "execute_result",
          "data": {
            "text/plain": [
              "(18207, 89)"
            ]
          },
          "metadata": {
            "tags": []
          },
          "execution_count": 5
        }
      ]
    },
    {
      "cell_type": "markdown",
      "metadata": {
        "id": "YrzH0TU5gUqr"
      },
      "source": [
        "Cleaning data\n"
      ]
    },
    {
      "cell_type": "markdown",
      "metadata": {
        "id": "tauR99QAiPb-"
      },
      "source": [
        "Remove unnecessary columns"
      ]
    },
    {
      "cell_type": "code",
      "metadata": {
        "id": "L8E34Si9gR9c"
      },
      "source": [
        "df.drop(['Unnamed: 0','ID', 'Photo','Flag','Club Logo','Body Type', 'Real Face'],axis=1,inplace=True)\n"
      ],
      "execution_count": null,
      "outputs": []
    },
    {
      "cell_type": "markdown",
      "metadata": {
        "id": "ECaXu-CCidI5"
      },
      "source": [
        "Checking values"
      ]
    },
    {
      "cell_type": "code",
      "metadata": {
        "colab": {
          "base_uri": "https://localhost:8080/",
          "height": 452
        },
        "id": "YTrSszHaikAH",
        "outputId": "056ee78c-4687-4af0-9915-c25328fbdbbc"
      },
      "source": [
        "msno.bar(df,(20,5),color='green', labels=True, fontsize= 10)\n"
      ],
      "execution_count": null,
      "outputs": [
        {
          "output_type": "execute_result",
          "data": {
            "text/plain": [
              "<matplotlib.axes._subplots.AxesSubplot at 0x7f4d1ae44198>"
            ]
          },
          "metadata": {
            "tags": []
          },
          "execution_count": 7
        },
        {
          "output_type": "display_data",
          "data": {
            "image/png": "[encoded data removed]",
            "text/plain": [
              "<Figure size 1440x360 with 3 Axes>"
            ]
          },
          "metadata": {
            "tags": []
          }
        }
      ]
    },
    {
      "cell_type": "markdown",
      "metadata": {
        "id": "z3Uz_wz0t17_"
      },
      "source": [
        "Delete players whose position is null, cause they have very little information"
      ]
    },
    {
      "cell_type": "code",
      "metadata": {
        "colab": {
          "base_uri": "https://localhost:8080/"
        },
        "id": "jCgWWL0Ild-h",
        "outputId": "26b15f38-53bf-45e8-82b3-0c7b2e356553"
      },
      "source": [
        "d = df.copy()\n",
        "pos_nl = d[d['Position'].isnull()].index.tolist()\n",
        "print ('Number of null positions: ', len(pos_nl))\n",
        "d.drop(d.index[pos_nl],inplace= True)\n",
        "pos_nl = d[d['Position'].isnull()].index.tolist()\n",
        "print ('After dropping null values: ', len(pos_nl))"
      ],
      "execution_count": null,
      "outputs": [
        {
          "output_type": "stream",
          "text": [
            "Number of null positions:  60\n",
            "After dropping null values:  0\n"
          ],
          "name": "stdout"
        }
      ]
    },
    {
      "cell_type": "markdown",
      "metadata": {
        "id": "0nxff95acLln"
      },
      "source": [
        "Remaining null columns:"
      ]
    },
    {
      "cell_type": "code",
      "metadata": {
        "id": "qJpXEcEQ92tQ",
        "colab": {
          "base_uri": "https://localhost:8080/"
        },
        "outputId": "925876ac-c0c9-4ca9-f2fa-187367face74"
      },
      "source": [
        "pd.options.display.max_columns = None\n",
        "\n",
        "obj= d.isnull().sum()\n",
        "for key,value in obj.iteritems():\n",
        "    if value !=0:\n",
        "      print(key,\",\",value)"
      ],
      "execution_count": null,
      "outputs": [
        {
          "output_type": "stream",
          "text": [
            "Club , 229\n",
            "Joined , 1493\n",
            "Loaned From , 16883\n",
            "Contract Valid Until , 229\n",
            "LS , 2025\n",
            "ST , 2025\n",
            "RS , 2025\n",
            "LW , 2025\n",
            "LF , 2025\n",
            "CF , 2025\n",
            "RF , 2025\n",
            "RW , 2025\n",
            "LAM , 2025\n",
            "CAM , 2025\n",
            "RAM , 2025\n",
            "LM , 2025\n",
            "LCM , 2025\n",
            "CM , 2025\n",
            "RCM , 2025\n",
            "RM , 2025\n",
            "LWB , 2025\n",
            "LDM , 2025\n",
            "CDM , 2025\n",
            "RDM , 2025\n",
            "RWB , 2025\n",
            "LB , 2025\n",
            "LCB , 2025\n",
            "CB , 2025\n",
            "RCB , 2025\n",
            "RB , 2025\n",
            "Release Clause , 1504\n"
          ],
          "name": "stdout"
        }
      ]
    },
    {
      "cell_type": "markdown",
      "metadata": {
        "id": "7Y1ttRUv9APn"
      },
      "source": [
        "Inspecting Null club players"
      ]
    },
    {
      "cell_type": "code",
      "metadata": {
        "colab": {
          "base_uri": "https://localhost:8080/"
        },
        "id": "9hPfExTs9Heo",
        "outputId": "2b714ab8-c1d5-477c-f17a-293660eb7f16"
      },
      "source": [
        "cols = ['Wage', 'Value', 'Release Clause', 'Joined','Loaned From','Contract Valid Until' ]\n",
        "for col in cols:\n",
        "  print('set for ', col)\n",
        "  print( set(d[d['Club'].isnull()][col]))"
      ],
      "execution_count": null,
      "outputs": [
        {
          "output_type": "stream",
          "text": [
            "set for  Wage\n",
            "{'€0'}\n",
            "set for  Value\n",
            "{'€0'}\n",
            "set for  Release Clause\n",
            "{nan}\n",
            "set for  Joined\n",
            "{nan}\n",
            "set for  Loaned From\n",
            "{nan}\n",
            "set for  Contract Valid Until\n",
            "{nan}\n"
          ],
          "name": "stdout"
        }
      ]
    },
    {
      "cell_type": "markdown",
      "metadata": {
        "id": "6vOz1-UV-KTK"
      },
      "source": [
        "After inspecting null club players, we can colude that these players are free agent players, that's why their  wages and values are 0. They also don't have any join date, contract expiration date or release clause. So, we will convert the null club players to free agents.  "
      ]
    },
    {
      "cell_type": "markdown",
      "metadata": {
        "id": "pS75Kqp0uMKp"
      },
      "source": [
        "Replace null values of Club, Contract Valid Until, Joined, Loaned From\n",
        "\n",
        "Remove date from Joined, Contract Valid Until. keep only year portion"
      ]
    },
    {
      "cell_type": "code",
      "metadata": {
        "id": "YDLA5TtdnT5R"
      },
      "source": [
        "d['Club'].fillna('Free Agent', inplace= True)\n",
        "d['Loaned From'].fillna('None', inplace= True)\n",
        "cols= ['Joined', 'Contract Valid Until']\n",
        "sep = ','\n",
        "for col in cols:\n",
        "  d[col].fillna(-1, inplace= True)\n",
        "  d[col]= d[col].astype(str)\n",
        "  d[col] = [word.split(sep, 2)[1] if len(word.split(sep, 2))==2 else word for word in d[col]]\n",
        "  d[col]= d[col].astype(int)\n"
      ],
      "execution_count": null,
      "outputs": []
    },
    {
      "cell_type": "markdown",
      "metadata": {
        "id": "MgMu6s1pY8S8"
      },
      "source": [
        "Inspecting null values for attribute range: LS to RB"
      ]
    },
    {
      "cell_type": "code",
      "metadata": {
        "colab": {
          "base_uri": "https://localhost:8080/"
        },
        "id": "D1AhW3hPVl4r",
        "outputId": "84e5d8c5-b731-4c4b-8619-8200611b9687"
      },
      "source": [
        "cols = d.loc[:,'LS':'RB'].keys().tolist()\n",
        "for col in cols:\n",
        "  col_nl = set(d[d[col].isnull()]['Position'])\n",
        "  print('Position for which ', col, 'is null: ', col_nl)  \n"
      ],
      "execution_count": null,
      "outputs": [
        {
          "output_type": "stream",
          "text": [
            "Position for which  LS is null:  {'GK'}\n",
            "Position for which  ST is null:  {'GK'}\n",
            "Position for which  RS is null:  {'GK'}\n",
            "Position for which  LW is null:  {'GK'}\n",
            "Position for which  LF is null:  {'GK'}\n",
            "Position for which  CF is null:  {'GK'}\n",
            "Position for which  RF is null:  {'GK'}\n",
            "Position for which  RW is null:  {'GK'}\n",
            "Position for which  LAM is null:  {'GK'}\n",
            "Position for which  CAM is null:  {'GK'}\n",
            "Position for which  RAM is null:  {'GK'}\n",
            "Position for which  LM is null:  {'GK'}\n",
            "Position for which  LCM is null:  {'GK'}\n",
            "Position for which  CM is null:  {'GK'}\n",
            "Position for which  RCM is null:  {'GK'}\n",
            "Position for which  RM is null:  {'GK'}\n",
            "Position for which  LWB is null:  {'GK'}\n",
            "Position for which  LDM is null:  {'GK'}\n",
            "Position for which  CDM is null:  {'GK'}\n",
            "Position for which  RDM is null:  {'GK'}\n",
            "Position for which  RWB is null:  {'GK'}\n",
            "Position for which  LB is null:  {'GK'}\n",
            "Position for which  LCB is null:  {'GK'}\n",
            "Position for which  CB is null:  {'GK'}\n",
            "Position for which  RCB is null:  {'GK'}\n",
            "Position for which  RB is null:  {'GK'}\n"
          ],
          "name": "stdout"
        }
      ]
    },
    {
      "cell_type": "markdown",
      "metadata": {
        "id": "gu4ilkNEZsZ7"
      },
      "source": [
        "Removing +... part from LS to RB columns"
      ]
    },
    {
      "cell_type": "code",
      "metadata": {
        "id": "61HgAFKxfCC_"
      },
      "source": [
        "sep = '+'\n",
        "for col in cols:\n",
        "  d[col].fillna(0,inplace = True)\n",
        "  d[col]= d[col].astype(str)\n",
        "  d[col] = [word.split(sep, 1)[0] for word in d[col]]\n",
        "  d[col]= d[col].astype(float)"
      ],
      "execution_count": null,
      "outputs": []
    },
    {
      "cell_type": "markdown",
      "metadata": {
        "id": "ejbEVCeZZ0ch"
      },
      "source": [
        "Function to convert Height(ft) into Height(inches)"
      ]
    },
    {
      "cell_type": "code",
      "metadata": {
        "id": "F4vlm-X-rtSc"
      },
      "source": [
        "def parse_ht(ht):\n",
        "    # format: 7'0.0\"\n",
        "    ht_ = ht.split(\"'\")\n",
        "    ft_ = float(ht_[0])\n",
        "    in_ = float(ht_[1].replace(\"\\\"\",\"\"))\n",
        "    return (12*ft_) + in_"
      ],
      "execution_count": null,
      "outputs": []
    },
    {
      "cell_type": "markdown",
      "metadata": {
        "id": "7Lk4urkhaIhq"
      },
      "source": [
        "Convert the following columns from string into numbers"
      ]
    },
    {
      "cell_type": "code",
      "metadata": {
        "id": "CDcY9WzSgJQN"
      },
      "source": [
        "d['Release Clause'].fillna(-1,inplace = True)\n",
        "cols= ['Wage', 'Value', 'Release Clause']\n",
        "for col in cols:\n",
        "  d[col]= d[col].astype(str)\n",
        "  d[col] = d[col].str.replace('€', '',1)\n",
        "  d[col] = (d[col].str.replace(r'[KM]+$', '', regex=True).astype(float) * df[col].str.extract(r'[\\d\\.]+([KM]+)', expand=False).fillna(1).replace(['K','M'], [10**3, 10**6]).astype(int))\n",
        "  d[col]= d[col].astype(float)\n",
        "d['Weight'] = d['Weight'].str.replace('lbs', '',1).astype(float)\n",
        "\n",
        "\n",
        "#d['Height'] = d['Height'].astype(float)\n",
        "d['Height'] = d[\"Height\"].apply(lambda x:parse_ht(x))\n"
      ],
      "execution_count": null,
      "outputs": []
    },
    {
      "cell_type": "code",
      "metadata": {
        "id": "uO3bultSkn7J"
      },
      "source": [
        "d['Jersey Number'] = d['Jersey Number'].astype(int)\n",
        "for col in d.select_dtypes(include='object').keys().tolist():\n",
        "  d[col] = d[col].astype(str)"
      ],
      "execution_count": null,
      "outputs": []
    },
    {
      "cell_type": "code",
      "metadata": {
        "id": "gF79E_UXLrfs"
      },
      "source": [
        "d.info()"
      ],
      "execution_count": null,
      "outputs": []
    },
    {
      "cell_type": "markdown",
      "metadata": {
        "id": "4WDDLmECLG04"
      },
      "source": [
        "split work rate into two columns - Attacking work rate and Defensive work rate"
      ]
    },
    {
      "cell_type": "code",
      "metadata": {
        "colab": {
          "base_uri": "https://localhost:8080/"
        },
        "id": "X4tMO88oLFiR",
        "outputId": "fba2dc0f-1c1a-4e78-81ef-02913ad89054"
      },
      "source": [
        "d[['Attack Work Rate', 'Defense Work Rate']] = d['Work Rate'].str.split('/', 1, expand=True)\n",
        "d.drop(['Work Rate'],axis=1,inplace=True)\n",
        "set(d['Defense Work Rate'])"
      ],
      "execution_count": null,
      "outputs": [
        {
          "output_type": "execute_result",
          "data": {
            "text/plain": [
              "{' High', ' Low', ' Medium'}"
            ]
          },
          "metadata": {
            "tags": []
          },
          "execution_count": 17
        }
      ]
    },
    {
      "cell_type": "code",
      "metadata": {
        "colab": {
          "base_uri": "https://localhost:8080/"
        },
        "id": "-KaQvaqqM7A9",
        "outputId": "254f9f7b-07fa-4c63-dde7-98508e1c410a"
      },
      "source": [
        "for col in d.select_dtypes(include='object').keys().tolist():\n",
        "  print (col, ': ', len(set(d[col])))"
      ],
      "execution_count": null,
      "outputs": [
        {
          "output_type": "stream",
          "text": [
            "Name :  17140\n",
            "Nationality :  164\n",
            "Club :  652\n",
            "Preferred Foot :  2\n",
            "Position :  27\n",
            "Loaned From :  342\n",
            "Attack Work Rate :  3\n",
            "Defense Work Rate :  3\n"
          ],
          "name": "stdout"
        }
      ]
    },
    {
      "cell_type": "markdown",
      "metadata": {
        "id": "x7VzyA82ax_x"
      },
      "source": [
        "Convert the following columns to category"
      ]
    },
    {
      "cell_type": "code",
      "metadata": {
        "id": "feZMOuVdVLSV"
      },
      "source": [
        "cat_columns = ['Preferred Foot', 'Position', 'Attack Work Rate', 'Defense Work Rate' ]\n",
        "for col in cat_columns:\n",
        "  d[col] = d[col].astype('category')\n",
        "d[cat_columns] = d[cat_columns].apply(lambda x: x.cat.codes)"
      ],
      "execution_count": null,
      "outputs": []
    },
    {
      "cell_type": "code",
      "metadata": {
        "colab": {
          "base_uri": "https://localhost:8080/",
          "height": 626
        },
        "id": "cyJ-nOeMW191",
        "outputId": "ee8ee120-f6b9-45e0-a168-ae8fc84e8392"
      },
      "source": [
        "d"
      ],
      "execution_count": null,
      "outputs": [
        {
          "output_type": "execute_result",
          "data": {
            "text/html": [
              "<div>\n",
              "<style scoped>\n",
              "    .dataframe tbody tr th:only-of-type {\n",
              "        vertical-align: middle;\n",
              "    }\n",
              "\n",
              "    .dataframe tbody tr th {\n",
              "        vertical-align: top;\n",
              "    }\n",
              "\n",
              "    .dataframe thead th {\n",
              "        text-align: right;\n",
              "    }\n",
              "</style>\n",
              "<table border=\"1\" class=\"dataframe\">\n",
              "  <thead>\n",
              "    <tr style=\"text-align: right;\">\n",
              "      <th></th>\n",
              "      <th>Age</th>\n",
              "      <th>Nationality</th>\n",
              "      <th>Overall</th>\n",
              "      <th>Potential</th>\n",
              "      <th>Club</th>\n",
              "      <th>Value</th>\n",
              "      <th>Wage</th>\n",
              "      <th>Special</th>\n",
              "      <th>Preferred Foot</th>\n",
              "      <th>International Reputation</th>\n",
              "      <th>Weak Foot</th>\n",
              "      <th>Skill Moves</th>\n",
              "      <th>Position</th>\n",
              "      <th>Jersey Number</th>\n",
              "      <th>Joined</th>\n",
              "      <th>Loaned From</th>\n",
              "      <th>Contract Valid Until</th>\n",
              "      <th>Height</th>\n",
              "      <th>Weight</th>\n",
              "      <th>LS</th>\n",
              "      <th>ST</th>\n",
              "      <th>RS</th>\n",
              "      <th>LW</th>\n",
              "      <th>LF</th>\n",
              "      <th>CF</th>\n",
              "      <th>RF</th>\n",
              "      <th>RW</th>\n",
              "      <th>LAM</th>\n",
              "      <th>CAM</th>\n",
              "      <th>RAM</th>\n",
              "      <th>LM</th>\n",
              "      <th>LCM</th>\n",
              "      <th>CM</th>\n",
              "      <th>RCM</th>\n",
              "      <th>RM</th>\n",
              "      <th>LWB</th>\n",
              "      <th>LDM</th>\n",
              "      <th>CDM</th>\n",
              "      <th>RDM</th>\n",
              "      <th>RWB</th>\n",
              "      <th>LB</th>\n",
              "      <th>LCB</th>\n",
              "      <th>CB</th>\n",
              "      <th>RCB</th>\n",
              "      <th>RB</th>\n",
              "      <th>Crossing</th>\n",
              "      <th>Finishing</th>\n",
              "      <th>HeadingAccuracy</th>\n",
              "      <th>ShortPassing</th>\n",
              "      <th>Volleys</th>\n",
              "      <th>Dribbling</th>\n",
              "      <th>Curve</th>\n",
              "      <th>FKAccuracy</th>\n",
              "      <th>LongPassing</th>\n",
              "      <th>BallControl</th>\n",
              "      <th>Acceleration</th>\n",
              "      <th>SprintSpeed</th>\n",
              "      <th>Agility</th>\n",
              "      <th>Reactions</th>\n",
              "      <th>Balance</th>\n",
              "      <th>ShotPower</th>\n",
              "      <th>Jumping</th>\n",
              "      <th>Stamina</th>\n",
              "      <th>Strength</th>\n",
              "      <th>LongShots</th>\n",
              "      <th>Aggression</th>\n",
              "      <th>Interceptions</th>\n",
              "      <th>Positioning</th>\n",
              "      <th>Vision</th>\n",
              "      <th>Penalties</th>\n",
              "      <th>Composure</th>\n",
              "      <th>Marking</th>\n",
              "      <th>StandingTackle</th>\n",
              "      <th>SlidingTackle</th>\n",
              "      <th>GKDiving</th>\n",
              "      <th>GKHandling</th>\n",
              "      <th>GKKicking</th>\n",
              "      <th>GKPositioning</th>\n",
              "      <th>GKReflexes</th>\n",
              "      <th>Release Clause</th>\n",
              "      <th>Attack Work Rate</th>\n",
              "      <th>Defense Work Rate</th>\n",
              "    </tr>\n",
              "  </thead>\n",
              "  <tbody>\n",
              "    <tr>\n",
              "      <th>0</th>\n",
              "      <td>31</td>\n",
              "      <td>Argentina</td>\n",
              "      <td>94</td>\n",
              "      <td>94</td>\n",
              "      <td>FC Barcelona</td>\n",
              "      <td>110500000.0</td>\n",
              "      <td>565000.0</td>\n",
              "      <td>2202</td>\n",
              "      <td>0</td>\n",
              "      <td>5.0</td>\n",
              "      <td>4.0</td>\n",
              "      <td>4.0</td>\n",
              "      <td>21</td>\n",
              "      <td>10</td>\n",
              "      <td>2004</td>\n",
              "      <td>None</td>\n",
              "      <td>2021</td>\n",
              "      <td>67.0</td>\n",
              "      <td>159.0</td>\n",
              "      <td>88.0</td>\n",
              "      <td>88.0</td>\n",
              "      <td>88.0</td>\n",
              "      <td>92.0</td>\n",
              "      <td>93.0</td>\n",
              "      <td>93.0</td>\n",
              "      <td>93.0</td>\n",
              "      <td>92.0</td>\n",
              "      <td>93.0</td>\n",
              "      <td>93.0</td>\n",
              "      <td>93.0</td>\n",
              "      <td>91.0</td>\n",
              "      <td>84.0</td>\n",
              "      <td>84.0</td>\n",
              "      <td>84.0</td>\n",
              "      <td>91.0</td>\n",
              "      <td>64.0</td>\n",
              "      <td>61.0</td>\n",
              "      <td>61.0</td>\n",
              "      <td>61.0</td>\n",
              "      <td>64.0</td>\n",
              "      <td>59.0</td>\n",
              "      <td>47.0</td>\n",
              "      <td>47.0</td>\n",
              "      <td>47.0</td>\n",
              "      <td>59.0</td>\n",
              "      <td>84.0</td>\n",
              "      <td>95.0</td>\n",
              "      <td>70.0</td>\n",
              "      <td>90.0</td>\n",
              "      <td>86.0</td>\n",
              "      <td>97.0</td>\n",
              "      <td>93.0</td>\n",
              "      <td>94.0</td>\n",
              "      <td>87.0</td>\n",
              "      <td>96.0</td>\n",
              "      <td>91.0</td>\n",
              "      <td>86.0</td>\n",
              "      <td>91.0</td>\n",
              "      <td>95.0</td>\n",
              "      <td>95.0</td>\n",
              "      <td>85.0</td>\n",
              "      <td>68.0</td>\n",
              "      <td>72.0</td>\n",
              "      <td>59.0</td>\n",
              "      <td>94.0</td>\n",
              "      <td>48.0</td>\n",
              "      <td>22.0</td>\n",
              "      <td>94.0</td>\n",
              "      <td>94.0</td>\n",
              "      <td>75.0</td>\n",
              "      <td>96.0</td>\n",
              "      <td>33.0</td>\n",
              "      <td>28.0</td>\n",
              "      <td>26.0</td>\n",
              "      <td>6.0</td>\n",
              "      <td>11.0</td>\n",
              "      <td>15.0</td>\n",
              "      <td>14.0</td>\n",
              "      <td>8.0</td>\n",
              "      <td>226500000.0</td>\n",
              "      <td>2</td>\n",
              "      <td>2</td>\n",
              "    </tr>\n",
              "    <tr>\n",
              "      <th>1</th>\n",
              "      <td>33</td>\n",
              "      <td>Portugal</td>\n",
              "      <td>94</td>\n",
              "      <td>94</td>\n",
              "      <td>Juventus</td>\n",
              "      <td>77000000.0</td>\n",
              "      <td>405000.0</td>\n",
              "      <td>2228</td>\n",
              "      <td>1</td>\n",
              "      <td>5.0</td>\n",
              "      <td>4.0</td>\n",
              "      <td>5.0</td>\n",
              "      <td>26</td>\n",
              "      <td>7</td>\n",
              "      <td>2018</td>\n",
              "      <td>None</td>\n",
              "      <td>2022</td>\n",
              "      <td>74.0</td>\n",
              "      <td>183.0</td>\n",
              "      <td>91.0</td>\n",
              "      <td>91.0</td>\n",
              "      <td>91.0</td>\n",
              "      <td>89.0</td>\n",
              "      <td>90.0</td>\n",
              "      <td>90.0</td>\n",
              "      <td>90.0</td>\n",
              "      <td>89.0</td>\n",
              "      <td>88.0</td>\n",
              "      <td>88.0</td>\n",
              "      <td>88.0</td>\n",
              "      <td>88.0</td>\n",
              "      <td>81.0</td>\n",
              "      <td>81.0</td>\n",
              "      <td>81.0</td>\n",
              "      <td>88.0</td>\n",
              "      <td>65.0</td>\n",
              "      <td>61.0</td>\n",
              "      <td>61.0</td>\n",
              "      <td>61.0</td>\n",
              "      <td>65.0</td>\n",
              "      <td>61.0</td>\n",
              "      <td>53.0</td>\n",
              "      <td>53.0</td>\n",
              "      <td>53.0</td>\n",
              "      <td>61.0</td>\n",
              "      <td>84.0</td>\n",
              "      <td>94.0</td>\n",
              "      <td>89.0</td>\n",
              "      <td>81.0</td>\n",
              "      <td>87.0</td>\n",
              "      <td>88.0</td>\n",
              "      <td>81.0</td>\n",
              "      <td>76.0</td>\n",
              "      <td>77.0</td>\n",
              "      <td>94.0</td>\n",
              "      <td>89.0</td>\n",
              "      <td>91.0</td>\n",
              "      <td>87.0</td>\n",
              "      <td>96.0</td>\n",
              "      <td>70.0</td>\n",
              "      <td>95.0</td>\n",
              "      <td>95.0</td>\n",
              "      <td>88.0</td>\n",
              "      <td>79.0</td>\n",
              "      <td>93.0</td>\n",
              "      <td>63.0</td>\n",
              "      <td>29.0</td>\n",
              "      <td>95.0</td>\n",
              "      <td>82.0</td>\n",
              "      <td>85.0</td>\n",
              "      <td>95.0</td>\n",
              "      <td>28.0</td>\n",
              "      <td>31.0</td>\n",
              "      <td>23.0</td>\n",
              "      <td>7.0</td>\n",
              "      <td>11.0</td>\n",
              "      <td>15.0</td>\n",
              "      <td>14.0</td>\n",
              "      <td>11.0</td>\n",
              "      <td>127100000.0</td>\n",
              "      <td>0</td>\n",
              "      <td>1</td>\n",
              "    </tr>\n",
              "    <tr>\n",
              "      <th>2</th>\n",
              "      <td>26</td>\n",
              "      <td>Brazil</td>\n",
              "      <td>92</td>\n",
              "      <td>93</td>\n",
              "      <td>Paris Saint-Germain</td>\n",
              "      <td>118500000.0</td>\n",
              "      <td>290000.0</td>\n",
              "      <td>2143</td>\n",
              "      <td>1</td>\n",
              "      <td>5.0</td>\n",
              "      <td>5.0</td>\n",
              "      <td>5.0</td>\n",
              "      <td>14</td>\n",
              "      <td>10</td>\n",
              "      <td>2017</td>\n",
              "      <td>None</td>\n",
              "      <td>2022</td>\n",
              "      <td>69.0</td>\n",
              "      <td>150.0</td>\n",
              "      <td>84.0</td>\n",
              "      <td>84.0</td>\n",
              "      <td>84.0</td>\n",
              "      <td>89.0</td>\n",
              "      <td>89.0</td>\n",
              "      <td>89.0</td>\n",
              "      <td>89.0</td>\n",
              "      <td>89.0</td>\n",
              "      <td>89.0</td>\n",
              "      <td>89.0</td>\n",
              "      <td>89.0</td>\n",
              "      <td>88.0</td>\n",
              "      <td>81.0</td>\n",
              "      <td>81.0</td>\n",
              "      <td>81.0</td>\n",
              "      <td>88.0</td>\n",
              "      <td>65.0</td>\n",
              "      <td>60.0</td>\n",
              "      <td>60.0</td>\n",
              "      <td>60.0</td>\n",
              "      <td>65.0</td>\n",
              "      <td>60.0</td>\n",
              "      <td>47.0</td>\n",
              "      <td>47.0</td>\n",
              "      <td>47.0</td>\n",
              "      <td>60.0</td>\n",
              "      <td>79.0</td>\n",
              "      <td>87.0</td>\n",
              "      <td>62.0</td>\n",
              "      <td>84.0</td>\n",
              "      <td>84.0</td>\n",
              "      <td>96.0</td>\n",
              "      <td>88.0</td>\n",
              "      <td>87.0</td>\n",
              "      <td>78.0</td>\n",
              "      <td>95.0</td>\n",
              "      <td>94.0</td>\n",
              "      <td>90.0</td>\n",
              "      <td>96.0</td>\n",
              "      <td>94.0</td>\n",
              "      <td>84.0</td>\n",
              "      <td>80.0</td>\n",
              "      <td>61.0</td>\n",
              "      <td>81.0</td>\n",
              "      <td>49.0</td>\n",
              "      <td>82.0</td>\n",
              "      <td>56.0</td>\n",
              "      <td>36.0</td>\n",
              "      <td>89.0</td>\n",
              "      <td>87.0</td>\n",
              "      <td>81.0</td>\n",
              "      <td>94.0</td>\n",
              "      <td>27.0</td>\n",
              "      <td>24.0</td>\n",
              "      <td>33.0</td>\n",
              "      <td>9.0</td>\n",
              "      <td>9.0</td>\n",
              "      <td>15.0</td>\n",
              "      <td>15.0</td>\n",
              "      <td>11.0</td>\n",
              "      <td>228100000.0</td>\n",
              "      <td>0</td>\n",
              "      <td>2</td>\n",
              "    </tr>\n",
              "    <tr>\n",
              "      <th>3</th>\n",
              "      <td>27</td>\n",
              "      <td>Spain</td>\n",
              "      <td>91</td>\n",
              "      <td>93</td>\n",
              "      <td>Manchester United</td>\n",
              "      <td>72000000.0</td>\n",
              "      <td>260000.0</td>\n",
              "      <td>1471</td>\n",
              "      <td>1</td>\n",
              "      <td>4.0</td>\n",
              "      <td>3.0</td>\n",
              "      <td>1.0</td>\n",
              "      <td>5</td>\n",
              "      <td>1</td>\n",
              "      <td>2011</td>\n",
              "      <td>None</td>\n",
              "      <td>2020</td>\n",
              "      <td>76.0</td>\n",
              "      <td>168.0</td>\n",
              "      <td>0.0</td>\n",
              "      <td>0.0</td>\n",
              "      <td>0.0</td>\n",
              "      <td>0.0</td>\n",
              "      <td>0.0</td>\n",
              "      <td>0.0</td>\n",
              "      <td>0.0</td>\n",
              "      <td>0.0</td>\n",
              "      <td>0.0</td>\n",
              "      <td>0.0</td>\n",
              "      <td>0.0</td>\n",
              "      <td>0.0</td>\n",
              "      <td>0.0</td>\n",
              "      <td>0.0</td>\n",
              "      <td>0.0</td>\n",
              "      <td>0.0</td>\n",
              "      <td>0.0</td>\n",
              "      <td>0.0</td>\n",
              "      <td>0.0</td>\n",
              "      <td>0.0</td>\n",
              "      <td>0.0</td>\n",
              "      <td>0.0</td>\n",
              "      <td>0.0</td>\n",
              "      <td>0.0</td>\n",
              "      <td>0.0</td>\n",
              "      <td>0.0</td>\n",
              "      <td>17.0</td>\n",
              "      <td>13.0</td>\n",
              "      <td>21.0</td>\n",
              "      <td>50.0</td>\n",
              "      <td>13.0</td>\n",
              "      <td>18.0</td>\n",
              "      <td>21.0</td>\n",
              "      <td>19.0</td>\n",
              "      <td>51.0</td>\n",
              "      <td>42.0</td>\n",
              "      <td>57.0</td>\n",
              "      <td>58.0</td>\n",
              "      <td>60.0</td>\n",
              "      <td>90.0</td>\n",
              "      <td>43.0</td>\n",
              "      <td>31.0</td>\n",
              "      <td>67.0</td>\n",
              "      <td>43.0</td>\n",
              "      <td>64.0</td>\n",
              "      <td>12.0</td>\n",
              "      <td>38.0</td>\n",
              "      <td>30.0</td>\n",
              "      <td>12.0</td>\n",
              "      <td>68.0</td>\n",
              "      <td>40.0</td>\n",
              "      <td>68.0</td>\n",
              "      <td>15.0</td>\n",
              "      <td>21.0</td>\n",
              "      <td>13.0</td>\n",
              "      <td>90.0</td>\n",
              "      <td>85.0</td>\n",
              "      <td>87.0</td>\n",
              "      <td>88.0</td>\n",
              "      <td>94.0</td>\n",
              "      <td>138600000.0</td>\n",
              "      <td>2</td>\n",
              "      <td>2</td>\n",
              "    </tr>\n",
              "    <tr>\n",
              "      <th>4</th>\n",
              "      <td>27</td>\n",
              "      <td>Belgium</td>\n",
              "      <td>91</td>\n",
              "      <td>92</td>\n",
              "      <td>Manchester City</td>\n",
              "      <td>102000000.0</td>\n",
              "      <td>355000.0</td>\n",
              "      <td>2281</td>\n",
              "      <td>1</td>\n",
              "      <td>4.0</td>\n",
              "      <td>5.0</td>\n",
              "      <td>4.0</td>\n",
              "      <td>19</td>\n",
              "      <td>7</td>\n",
              "      <td>2015</td>\n",
              "      <td>None</td>\n",
              "      <td>2023</td>\n",
              "      <td>71.0</td>\n",
              "      <td>154.0</td>\n",
              "      <td>82.0</td>\n",
              "      <td>82.0</td>\n",
              "      <td>82.0</td>\n",
              "      <td>87.0</td>\n",
              "      <td>87.0</td>\n",
              "      <td>87.0</td>\n",
              "      <td>87.0</td>\n",
              "      <td>87.0</td>\n",
              "      <td>88.0</td>\n",
              "      <td>88.0</td>\n",
              "      <td>88.0</td>\n",
              "      <td>88.0</td>\n",
              "      <td>87.0</td>\n",
              "      <td>87.0</td>\n",
              "      <td>87.0</td>\n",
              "      <td>88.0</td>\n",
              "      <td>77.0</td>\n",
              "      <td>77.0</td>\n",
              "      <td>77.0</td>\n",
              "      <td>77.0</td>\n",
              "      <td>77.0</td>\n",
              "      <td>73.0</td>\n",
              "      <td>66.0</td>\n",
              "      <td>66.0</td>\n",
              "      <td>66.0</td>\n",
              "      <td>73.0</td>\n",
              "      <td>93.0</td>\n",
              "      <td>82.0</td>\n",
              "      <td>55.0</td>\n",
              "      <td>92.0</td>\n",
              "      <td>82.0</td>\n",
              "      <td>86.0</td>\n",
              "      <td>85.0</td>\n",
              "      <td>83.0</td>\n",
              "      <td>91.0</td>\n",
              "      <td>91.0</td>\n",
              "      <td>78.0</td>\n",
              "      <td>76.0</td>\n",
              "      <td>79.0</td>\n",
              "      <td>91.0</td>\n",
              "      <td>77.0</td>\n",
              "      <td>91.0</td>\n",
              "      <td>63.0</td>\n",
              "      <td>90.0</td>\n",
              "      <td>75.0</td>\n",
              "      <td>91.0</td>\n",
              "      <td>76.0</td>\n",
              "      <td>61.0</td>\n",
              "      <td>87.0</td>\n",
              "      <td>94.0</td>\n",
              "      <td>79.0</td>\n",
              "      <td>88.0</td>\n",
              "      <td>68.0</td>\n",
              "      <td>58.0</td>\n",
              "      <td>51.0</td>\n",
              "      <td>15.0</td>\n",
              "      <td>13.0</td>\n",
              "      <td>5.0</td>\n",
              "      <td>10.0</td>\n",
              "      <td>13.0</td>\n",
              "      <td>196400000.0</td>\n",
              "      <td>0</td>\n",
              "      <td>0</td>\n",
              "    </tr>\n",
              "    <tr>\n",
              "      <th>...</th>\n",
              "      <td>...</td>\n",
              "      <td>...</td>\n",
              "      <td>...</td>\n",
              "      <td>...</td>\n",
              "      <td>...</td>\n",
              "      <td>...</td>\n",
              "      <td>...</td>\n",
              "      <td>...</td>\n",
              "      <td>...</td>\n",
              "      <td>...</td>\n",
              "      <td>...</td>\n",
              "      <td>...</td>\n",
              "      <td>...</td>\n",
              "      <td>...</td>\n",
              "      <td>...</td>\n",
              "      <td>...</td>\n",
              "      <td>...</td>\n",
              "      <td>...</td>\n",
              "      <td>...</td>\n",
              "      <td>...</td>\n",
              "      <td>...</td>\n",
              "      <td>...</td>\n",
              "      <td>...</td>\n",
              "      <td>...</td>\n",
              "      <td>...</td>\n",
              "      <td>...</td>\n",
              "      <td>...</td>\n",
              "      <td>...</td>\n",
              "      <td>...</td>\n",
              "      <td>...</td>\n",
              "      <td>...</td>\n",
              "      <td>...</td>\n",
              "      <td>...</td>\n",
              "      <td>...</td>\n",
              "      <td>...</td>\n",
              "      <td>...</td>\n",
              "      <td>...</td>\n",
              "      <td>...</td>\n",
              "      <td>...</td>\n",
              "      <td>...</td>\n",
              "      <td>...</td>\n",
              "      <td>...</td>\n",
              "      <td>...</td>\n",
              "      <td>...</td>\n",
              "      <td>...</td>\n",
              "      <td>...</td>\n",
              "      <td>...</td>\n",
              "      <td>...</td>\n",
              "      <td>...</td>\n",
              "      <td>...</td>\n",
              "      <td>...</td>\n",
              "      <td>...</td>\n",
              "      <td>...</td>\n",
              "      <td>...</td>\n",
              "      <td>...</td>\n",
              "      <td>...</td>\n",
              "      <td>...</td>\n",
              "      <td>...</td>\n",
              "      <td>...</td>\n",
              "      <td>...</td>\n",
              "      <td>...</td>\n",
              "      <td>...</td>\n",
              "      <td>...</td>\n",
              "      <td>...</td>\n",
              "      <td>...</td>\n",
              "      <td>...</td>\n",
              "      <td>...</td>\n",
              "      <td>...</td>\n",
              "      <td>...</td>\n",
              "      <td>...</td>\n",
              "      <td>...</td>\n",
              "      <td>...</td>\n",
              "      <td>...</td>\n",
              "      <td>...</td>\n",
              "      <td>...</td>\n",
              "      <td>...</td>\n",
              "      <td>...</td>\n",
              "      <td>...</td>\n",
              "      <td>...</td>\n",
              "      <td>...</td>\n",
              "      <td>...</td>\n",
              "      <td>...</td>\n",
              "    </tr>\n",
              "    <tr>\n",
              "      <th>18202</th>\n",
              "      <td>19</td>\n",
              "      <td>England</td>\n",
              "      <td>47</td>\n",
              "      <td>65</td>\n",
              "      <td>Crewe Alexandra</td>\n",
              "      <td>60000.0</td>\n",
              "      <td>1000.0</td>\n",
              "      <td>1307</td>\n",
              "      <td>1</td>\n",
              "      <td>1.0</td>\n",
              "      <td>2.0</td>\n",
              "      <td>2.0</td>\n",
              "      <td>4</td>\n",
              "      <td>22</td>\n",
              "      <td>2017</td>\n",
              "      <td>None</td>\n",
              "      <td>2019</td>\n",
              "      <td>69.0</td>\n",
              "      <td>134.0</td>\n",
              "      <td>42.0</td>\n",
              "      <td>42.0</td>\n",
              "      <td>42.0</td>\n",
              "      <td>44.0</td>\n",
              "      <td>44.0</td>\n",
              "      <td>44.0</td>\n",
              "      <td>44.0</td>\n",
              "      <td>44.0</td>\n",
              "      <td>45.0</td>\n",
              "      <td>45.0</td>\n",
              "      <td>45.0</td>\n",
              "      <td>44.0</td>\n",
              "      <td>45.0</td>\n",
              "      <td>45.0</td>\n",
              "      <td>45.0</td>\n",
              "      <td>44.0</td>\n",
              "      <td>44.0</td>\n",
              "      <td>45.0</td>\n",
              "      <td>45.0</td>\n",
              "      <td>45.0</td>\n",
              "      <td>44.0</td>\n",
              "      <td>45.0</td>\n",
              "      <td>45.0</td>\n",
              "      <td>45.0</td>\n",
              "      <td>45.0</td>\n",
              "      <td>45.0</td>\n",
              "      <td>34.0</td>\n",
              "      <td>38.0</td>\n",
              "      <td>40.0</td>\n",
              "      <td>49.0</td>\n",
              "      <td>25.0</td>\n",
              "      <td>42.0</td>\n",
              "      <td>30.0</td>\n",
              "      <td>34.0</td>\n",
              "      <td>45.0</td>\n",
              "      <td>43.0</td>\n",
              "      <td>54.0</td>\n",
              "      <td>57.0</td>\n",
              "      <td>60.0</td>\n",
              "      <td>49.0</td>\n",
              "      <td>76.0</td>\n",
              "      <td>43.0</td>\n",
              "      <td>55.0</td>\n",
              "      <td>40.0</td>\n",
              "      <td>47.0</td>\n",
              "      <td>38.0</td>\n",
              "      <td>46.0</td>\n",
              "      <td>46.0</td>\n",
              "      <td>39.0</td>\n",
              "      <td>52.0</td>\n",
              "      <td>43.0</td>\n",
              "      <td>45.0</td>\n",
              "      <td>40.0</td>\n",
              "      <td>48.0</td>\n",
              "      <td>47.0</td>\n",
              "      <td>10.0</td>\n",
              "      <td>13.0</td>\n",
              "      <td>7.0</td>\n",
              "      <td>8.0</td>\n",
              "      <td>9.0</td>\n",
              "      <td>143000.0</td>\n",
              "      <td>2</td>\n",
              "      <td>2</td>\n",
              "    </tr>\n",
              "    <tr>\n",
              "      <th>18203</th>\n",
              "      <td>19</td>\n",
              "      <td>Sweden</td>\n",
              "      <td>47</td>\n",
              "      <td>63</td>\n",
              "      <td>Trelleborgs FF</td>\n",
              "      <td>60000.0</td>\n",
              "      <td>1000.0</td>\n",
              "      <td>1098</td>\n",
              "      <td>1</td>\n",
              "      <td>1.0</td>\n",
              "      <td>2.0</td>\n",
              "      <td>2.0</td>\n",
              "      <td>26</td>\n",
              "      <td>21</td>\n",
              "      <td>2018</td>\n",
              "      <td>None</td>\n",
              "      <td>2020</td>\n",
              "      <td>75.0</td>\n",
              "      <td>170.0</td>\n",
              "      <td>45.0</td>\n",
              "      <td>45.0</td>\n",
              "      <td>45.0</td>\n",
              "      <td>39.0</td>\n",
              "      <td>42.0</td>\n",
              "      <td>42.0</td>\n",
              "      <td>42.0</td>\n",
              "      <td>39.0</td>\n",
              "      <td>40.0</td>\n",
              "      <td>40.0</td>\n",
              "      <td>40.0</td>\n",
              "      <td>38.0</td>\n",
              "      <td>35.0</td>\n",
              "      <td>35.0</td>\n",
              "      <td>35.0</td>\n",
              "      <td>38.0</td>\n",
              "      <td>30.0</td>\n",
              "      <td>31.0</td>\n",
              "      <td>31.0</td>\n",
              "      <td>31.0</td>\n",
              "      <td>30.0</td>\n",
              "      <td>29.0</td>\n",
              "      <td>32.0</td>\n",
              "      <td>32.0</td>\n",
              "      <td>32.0</td>\n",
              "      <td>29.0</td>\n",
              "      <td>23.0</td>\n",
              "      <td>52.0</td>\n",
              "      <td>52.0</td>\n",
              "      <td>43.0</td>\n",
              "      <td>36.0</td>\n",
              "      <td>39.0</td>\n",
              "      <td>32.0</td>\n",
              "      <td>20.0</td>\n",
              "      <td>25.0</td>\n",
              "      <td>40.0</td>\n",
              "      <td>41.0</td>\n",
              "      <td>39.0</td>\n",
              "      <td>38.0</td>\n",
              "      <td>40.0</td>\n",
              "      <td>52.0</td>\n",
              "      <td>41.0</td>\n",
              "      <td>47.0</td>\n",
              "      <td>43.0</td>\n",
              "      <td>67.0</td>\n",
              "      <td>42.0</td>\n",
              "      <td>47.0</td>\n",
              "      <td>16.0</td>\n",
              "      <td>46.0</td>\n",
              "      <td>33.0</td>\n",
              "      <td>43.0</td>\n",
              "      <td>42.0</td>\n",
              "      <td>22.0</td>\n",
              "      <td>15.0</td>\n",
              "      <td>19.0</td>\n",
              "      <td>10.0</td>\n",
              "      <td>9.0</td>\n",
              "      <td>9.0</td>\n",
              "      <td>5.0</td>\n",
              "      <td>12.0</td>\n",
              "      <td>113000.0</td>\n",
              "      <td>2</td>\n",
              "      <td>2</td>\n",
              "    </tr>\n",
              "    <tr>\n",
              "      <th>18204</th>\n",
              "      <td>16</td>\n",
              "      <td>England</td>\n",
              "      <td>47</td>\n",
              "      <td>67</td>\n",
              "      <td>Cambridge United</td>\n",
              "      <td>60000.0</td>\n",
              "      <td>1000.0</td>\n",
              "      <td>1189</td>\n",
              "      <td>1</td>\n",
              "      <td>1.0</td>\n",
              "      <td>3.0</td>\n",
              "      <td>2.0</td>\n",
              "      <td>26</td>\n",
              "      <td>33</td>\n",
              "      <td>2017</td>\n",
              "      <td>None</td>\n",
              "      <td>2021</td>\n",
              "      <td>68.0</td>\n",
              "      <td>148.0</td>\n",
              "      <td>45.0</td>\n",
              "      <td>45.0</td>\n",
              "      <td>45.0</td>\n",
              "      <td>45.0</td>\n",
              "      <td>46.0</td>\n",
              "      <td>46.0</td>\n",
              "      <td>46.0</td>\n",
              "      <td>45.0</td>\n",
              "      <td>44.0</td>\n",
              "      <td>44.0</td>\n",
              "      <td>44.0</td>\n",
              "      <td>44.0</td>\n",
              "      <td>38.0</td>\n",
              "      <td>38.0</td>\n",
              "      <td>38.0</td>\n",
              "      <td>44.0</td>\n",
              "      <td>34.0</td>\n",
              "      <td>30.0</td>\n",
              "      <td>30.0</td>\n",
              "      <td>30.0</td>\n",
              "      <td>34.0</td>\n",
              "      <td>33.0</td>\n",
              "      <td>28.0</td>\n",
              "      <td>28.0</td>\n",
              "      <td>28.0</td>\n",
              "      <td>33.0</td>\n",
              "      <td>25.0</td>\n",
              "      <td>40.0</td>\n",
              "      <td>46.0</td>\n",
              "      <td>38.0</td>\n",
              "      <td>38.0</td>\n",
              "      <td>45.0</td>\n",
              "      <td>38.0</td>\n",
              "      <td>27.0</td>\n",
              "      <td>28.0</td>\n",
              "      <td>44.0</td>\n",
              "      <td>70.0</td>\n",
              "      <td>69.0</td>\n",
              "      <td>50.0</td>\n",
              "      <td>47.0</td>\n",
              "      <td>58.0</td>\n",
              "      <td>45.0</td>\n",
              "      <td>60.0</td>\n",
              "      <td>55.0</td>\n",
              "      <td>32.0</td>\n",
              "      <td>45.0</td>\n",
              "      <td>32.0</td>\n",
              "      <td>15.0</td>\n",
              "      <td>48.0</td>\n",
              "      <td>43.0</td>\n",
              "      <td>55.0</td>\n",
              "      <td>41.0</td>\n",
              "      <td>32.0</td>\n",
              "      <td>13.0</td>\n",
              "      <td>11.0</td>\n",
              "      <td>6.0</td>\n",
              "      <td>5.0</td>\n",
              "      <td>10.0</td>\n",
              "      <td>6.0</td>\n",
              "      <td>13.0</td>\n",
              "      <td>165000.0</td>\n",
              "      <td>2</td>\n",
              "      <td>2</td>\n",
              "    </tr>\n",
              "    <tr>\n",
              "      <th>18205</th>\n",
              "      <td>17</td>\n",
              "      <td>England</td>\n",
              "      <td>47</td>\n",
              "      <td>66</td>\n",
              "      <td>Tranmere Rovers</td>\n",
              "      <td>60000.0</td>\n",
              "      <td>1000.0</td>\n",
              "      <td>1228</td>\n",
              "      <td>1</td>\n",
              "      <td>1.0</td>\n",
              "      <td>3.0</td>\n",
              "      <td>2.0</td>\n",
              "      <td>24</td>\n",
              "      <td>34</td>\n",
              "      <td>2018</td>\n",
              "      <td>None</td>\n",
              "      <td>2019</td>\n",
              "      <td>70.0</td>\n",
              "      <td>154.0</td>\n",
              "      <td>47.0</td>\n",
              "      <td>47.0</td>\n",
              "      <td>47.0</td>\n",
              "      <td>47.0</td>\n",
              "      <td>46.0</td>\n",
              "      <td>46.0</td>\n",
              "      <td>46.0</td>\n",
              "      <td>47.0</td>\n",
              "      <td>45.0</td>\n",
              "      <td>45.0</td>\n",
              "      <td>45.0</td>\n",
              "      <td>46.0</td>\n",
              "      <td>39.0</td>\n",
              "      <td>39.0</td>\n",
              "      <td>39.0</td>\n",
              "      <td>46.0</td>\n",
              "      <td>36.0</td>\n",
              "      <td>32.0</td>\n",
              "      <td>32.0</td>\n",
              "      <td>32.0</td>\n",
              "      <td>36.0</td>\n",
              "      <td>35.0</td>\n",
              "      <td>31.0</td>\n",
              "      <td>31.0</td>\n",
              "      <td>31.0</td>\n",
              "      <td>35.0</td>\n",
              "      <td>44.0</td>\n",
              "      <td>50.0</td>\n",
              "      <td>39.0</td>\n",
              "      <td>42.0</td>\n",
              "      <td>40.0</td>\n",
              "      <td>51.0</td>\n",
              "      <td>34.0</td>\n",
              "      <td>32.0</td>\n",
              "      <td>32.0</td>\n",
              "      <td>52.0</td>\n",
              "      <td>61.0</td>\n",
              "      <td>60.0</td>\n",
              "      <td>52.0</td>\n",
              "      <td>21.0</td>\n",
              "      <td>71.0</td>\n",
              "      <td>64.0</td>\n",
              "      <td>42.0</td>\n",
              "      <td>40.0</td>\n",
              "      <td>48.0</td>\n",
              "      <td>34.0</td>\n",
              "      <td>33.0</td>\n",
              "      <td>22.0</td>\n",
              "      <td>44.0</td>\n",
              "      <td>47.0</td>\n",
              "      <td>50.0</td>\n",
              "      <td>46.0</td>\n",
              "      <td>20.0</td>\n",
              "      <td>25.0</td>\n",
              "      <td>27.0</td>\n",
              "      <td>14.0</td>\n",
              "      <td>6.0</td>\n",
              "      <td>14.0</td>\n",
              "      <td>8.0</td>\n",
              "      <td>9.0</td>\n",
              "      <td>143000.0</td>\n",
              "      <td>2</td>\n",
              "      <td>2</td>\n",
              "    </tr>\n",
              "    <tr>\n",
              "      <th>18206</th>\n",
              "      <td>16</td>\n",
              "      <td>England</td>\n",
              "      <td>46</td>\n",
              "      <td>66</td>\n",
              "      <td>Tranmere Rovers</td>\n",
              "      <td>60000.0</td>\n",
              "      <td>1000.0</td>\n",
              "      <td>1321</td>\n",
              "      <td>1</td>\n",
              "      <td>1.0</td>\n",
              "      <td>3.0</td>\n",
              "      <td>2.0</td>\n",
              "      <td>4</td>\n",
              "      <td>33</td>\n",
              "      <td>2018</td>\n",
              "      <td>None</td>\n",
              "      <td>2019</td>\n",
              "      <td>70.0</td>\n",
              "      <td>176.0</td>\n",
              "      <td>43.0</td>\n",
              "      <td>43.0</td>\n",
              "      <td>43.0</td>\n",
              "      <td>45.0</td>\n",
              "      <td>44.0</td>\n",
              "      <td>44.0</td>\n",
              "      <td>44.0</td>\n",
              "      <td>45.0</td>\n",
              "      <td>45.0</td>\n",
              "      <td>45.0</td>\n",
              "      <td>45.0</td>\n",
              "      <td>46.0</td>\n",
              "      <td>45.0</td>\n",
              "      <td>45.0</td>\n",
              "      <td>45.0</td>\n",
              "      <td>46.0</td>\n",
              "      <td>46.0</td>\n",
              "      <td>46.0</td>\n",
              "      <td>46.0</td>\n",
              "      <td>46.0</td>\n",
              "      <td>46.0</td>\n",
              "      <td>46.0</td>\n",
              "      <td>47.0</td>\n",
              "      <td>47.0</td>\n",
              "      <td>47.0</td>\n",
              "      <td>46.0</td>\n",
              "      <td>41.0</td>\n",
              "      <td>34.0</td>\n",
              "      <td>46.0</td>\n",
              "      <td>48.0</td>\n",
              "      <td>30.0</td>\n",
              "      <td>43.0</td>\n",
              "      <td>40.0</td>\n",
              "      <td>34.0</td>\n",
              "      <td>44.0</td>\n",
              "      <td>51.0</td>\n",
              "      <td>57.0</td>\n",
              "      <td>55.0</td>\n",
              "      <td>55.0</td>\n",
              "      <td>51.0</td>\n",
              "      <td>63.0</td>\n",
              "      <td>43.0</td>\n",
              "      <td>62.0</td>\n",
              "      <td>47.0</td>\n",
              "      <td>60.0</td>\n",
              "      <td>32.0</td>\n",
              "      <td>56.0</td>\n",
              "      <td>42.0</td>\n",
              "      <td>34.0</td>\n",
              "      <td>49.0</td>\n",
              "      <td>33.0</td>\n",
              "      <td>43.0</td>\n",
              "      <td>40.0</td>\n",
              "      <td>43.0</td>\n",
              "      <td>50.0</td>\n",
              "      <td>10.0</td>\n",
              "      <td>15.0</td>\n",
              "      <td>9.0</td>\n",
              "      <td>12.0</td>\n",
              "      <td>9.0</td>\n",
              "      <td>165000.0</td>\n",
              "      <td>2</td>\n",
              "      <td>2</td>\n",
              "    </tr>\n",
              "  </tbody>\n",
              "</table>\n",
              "<p>18147 rows × 82 columns</p>\n",
              "</div>"
            ],
            "text/plain": [
              "       Age Nationality  Overall  Potential                 Club        Value  \\\n",
              "0       31   Argentina       94         94         FC Barcelona  110500000.0   \n",
              "1       33    Portugal       94         94             Juventus   77000000.0   \n",
              "2       26      Brazil       92         93  Paris Saint-Germain  118500000.0   \n",
              "3       27       Spain       91         93    Manchester United   72000000.0   \n",
              "4       27     Belgium       91         92      Manchester City  102000000.0   \n",
              "...    ...         ...      ...        ...                  ...          ...   \n",
              "18202   19     England       47         65      Crewe Alexandra      60000.0   \n",
              "18203   19      Sweden       47         63       Trelleborgs FF      60000.0   \n",
              "18204   16     England       47         67     Cambridge United      60000.0   \n",
              "18205   17     England       47         66      Tranmere Rovers      60000.0   \n",
              "18206   16     England       46         66      Tranmere Rovers      60000.0   \n",
              "\n",
              "           Wage  Special  Preferred Foot  International Reputation  Weak Foot  \\\n",
              "0      565000.0     2202               0                       5.0        4.0   \n",
              "1      405000.0     2228               1                       5.0        4.0   \n",
              "2      290000.0     2143               1                       5.0        5.0   \n",
              "3      260000.0     1471               1                       4.0        3.0   \n",
              "4      355000.0     2281               1                       4.0        5.0   \n",
              "...         ...      ...             ...                       ...        ...   \n",
              "18202    1000.0     1307               1                       1.0        2.0   \n",
              "18203    1000.0     1098               1                       1.0        2.0   \n",
              "18204    1000.0     1189               1                       1.0        3.0   \n",
              "18205    1000.0     1228               1                       1.0        3.0   \n",
              "18206    1000.0     1321               1                       1.0        3.0   \n",
              "\n",
              "       Skill Moves  Position  Jersey Number  Joined Loaned From  \\\n",
              "0              4.0        21             10    2004        None   \n",
              "1              5.0        26              7    2018        None   \n",
              "2              5.0        14             10    2017        None   \n",
              "3              1.0         5              1    2011        None   \n",
              "4              4.0        19              7    2015        None   \n",
              "...            ...       ...            ...     ...         ...   \n",
              "18202          2.0         4             22    2017        None   \n",
              "18203          2.0        26             21    2018        None   \n",
              "18204          2.0        26             33    2017        None   \n",
              "18205          2.0        24             34    2018        None   \n",
              "18206          2.0         4             33    2018        None   \n",
              "\n",
              "       Contract Valid Until  Height  Weight    LS    ST    RS    LW    LF  \\\n",
              "0                      2021    67.0   159.0  88.0  88.0  88.0  92.0  93.0   \n",
              "1                      2022    74.0   183.0  91.0  91.0  91.0  89.0  90.0   \n",
              "2                      2022    69.0   150.0  84.0  84.0  84.0  89.0  89.0   \n",
              "3                      2020    76.0   168.0   0.0   0.0   0.0   0.0   0.0   \n",
              "4                      2023    71.0   154.0  82.0  82.0  82.0  87.0  87.0   \n",
              "...                     ...     ...     ...   ...   ...   ...   ...   ...   \n",
              "18202                  2019    69.0   134.0  42.0  42.0  42.0  44.0  44.0   \n",
              "18203                  2020    75.0   170.0  45.0  45.0  45.0  39.0  42.0   \n",
              "18204                  2021    68.0   148.0  45.0  45.0  45.0  45.0  46.0   \n",
              "18205                  2019    70.0   154.0  47.0  47.0  47.0  47.0  46.0   \n",
              "18206                  2019    70.0   176.0  43.0  43.0  43.0  45.0  44.0   \n",
              "\n",
              "         CF    RF    RW   LAM   CAM   RAM    LM   LCM    CM   RCM    RM   LWB  \\\n",
              "0      93.0  93.0  92.0  93.0  93.0  93.0  91.0  84.0  84.0  84.0  91.0  64.0   \n",
              "1      90.0  90.0  89.0  88.0  88.0  88.0  88.0  81.0  81.0  81.0  88.0  65.0   \n",
              "2      89.0  89.0  89.0  89.0  89.0  89.0  88.0  81.0  81.0  81.0  88.0  65.0   \n",
              "3       0.0   0.0   0.0   0.0   0.0   0.0   0.0   0.0   0.0   0.0   0.0   0.0   \n",
              "4      87.0  87.0  87.0  88.0  88.0  88.0  88.0  87.0  87.0  87.0  88.0  77.0   \n",
              "...     ...   ...   ...   ...   ...   ...   ...   ...   ...   ...   ...   ...   \n",
              "18202  44.0  44.0  44.0  45.0  45.0  45.0  44.0  45.0  45.0  45.0  44.0  44.0   \n",
              "18203  42.0  42.0  39.0  40.0  40.0  40.0  38.0  35.0  35.0  35.0  38.0  30.0   \n",
              "18204  46.0  46.0  45.0  44.0  44.0  44.0  44.0  38.0  38.0  38.0  44.0  34.0   \n",
              "18205  46.0  46.0  47.0  45.0  45.0  45.0  46.0  39.0  39.0  39.0  46.0  36.0   \n",
              "18206  44.0  44.0  45.0  45.0  45.0  45.0  46.0  45.0  45.0  45.0  46.0  46.0   \n",
              "\n",
              "        LDM   CDM   RDM   RWB    LB   LCB    CB   RCB    RB  Crossing  \\\n",
              "0      61.0  61.0  61.0  64.0  59.0  47.0  47.0  47.0  59.0      84.0   \n",
              "1      61.0  61.0  61.0  65.0  61.0  53.0  53.0  53.0  61.0      84.0   \n",
              "2      60.0  60.0  60.0  65.0  60.0  47.0  47.0  47.0  60.0      79.0   \n",
              "3       0.0   0.0   0.0   0.0   0.0   0.0   0.0   0.0   0.0      17.0   \n",
              "4      77.0  77.0  77.0  77.0  73.0  66.0  66.0  66.0  73.0      93.0   \n",
              "...     ...   ...   ...   ...   ...   ...   ...   ...   ...       ...   \n",
              "18202  45.0  45.0  45.0  44.0  45.0  45.0  45.0  45.0  45.0      34.0   \n",
              "18203  31.0  31.0  31.0  30.0  29.0  32.0  32.0  32.0  29.0      23.0   \n",
              "18204  30.0  30.0  30.0  34.0  33.0  28.0  28.0  28.0  33.0      25.0   \n",
              "18205  32.0  32.0  32.0  36.0  35.0  31.0  31.0  31.0  35.0      44.0   \n",
              "18206  46.0  46.0  46.0  46.0  46.0  47.0  47.0  47.0  46.0      41.0   \n",
              "\n",
              "       Finishing  HeadingAccuracy  ShortPassing  Volleys  Dribbling  Curve  \\\n",
              "0           95.0             70.0          90.0     86.0       97.0   93.0   \n",
              "1           94.0             89.0          81.0     87.0       88.0   81.0   \n",
              "2           87.0             62.0          84.0     84.0       96.0   88.0   \n",
              "3           13.0             21.0          50.0     13.0       18.0   21.0   \n",
              "4           82.0             55.0          92.0     82.0       86.0   85.0   \n",
              "...          ...              ...           ...      ...        ...    ...   \n",
              "18202       38.0             40.0          49.0     25.0       42.0   30.0   \n",
              "18203       52.0             52.0          43.0     36.0       39.0   32.0   \n",
              "18204       40.0             46.0          38.0     38.0       45.0   38.0   \n",
              "18205       50.0             39.0          42.0     40.0       51.0   34.0   \n",
              "18206       34.0             46.0          48.0     30.0       43.0   40.0   \n",
              "\n",
              "       FKAccuracy  LongPassing  BallControl  Acceleration  SprintSpeed  \\\n",
              "0            94.0         87.0         96.0          91.0         86.0   \n",
              "1            76.0         77.0         94.0          89.0         91.0   \n",
              "2            87.0         78.0         95.0          94.0         90.0   \n",
              "3            19.0         51.0         42.0          57.0         58.0   \n",
              "4            83.0         91.0         91.0          78.0         76.0   \n",
              "...           ...          ...          ...           ...          ...   \n",
              "18202        34.0         45.0         43.0          54.0         57.0   \n",
              "18203        20.0         25.0         40.0          41.0         39.0   \n",
              "18204        27.0         28.0         44.0          70.0         69.0   \n",
              "18205        32.0         32.0         52.0          61.0         60.0   \n",
              "18206        34.0         44.0         51.0          57.0         55.0   \n",
              "\n",
              "       Agility  Reactions  Balance  ShotPower  Jumping  Stamina  Strength  \\\n",
              "0         91.0       95.0     95.0       85.0     68.0     72.0      59.0   \n",
              "1         87.0       96.0     70.0       95.0     95.0     88.0      79.0   \n",
              "2         96.0       94.0     84.0       80.0     61.0     81.0      49.0   \n",
              "3         60.0       90.0     43.0       31.0     67.0     43.0      64.0   \n",
              "4         79.0       91.0     77.0       91.0     63.0     90.0      75.0   \n",
              "...        ...        ...      ...        ...      ...      ...       ...   \n",
              "18202     60.0       49.0     76.0       43.0     55.0     40.0      47.0   \n",
              "18203     38.0       40.0     52.0       41.0     47.0     43.0      67.0   \n",
              "18204     50.0       47.0     58.0       45.0     60.0     55.0      32.0   \n",
              "18205     52.0       21.0     71.0       64.0     42.0     40.0      48.0   \n",
              "18206     55.0       51.0     63.0       43.0     62.0     47.0      60.0   \n",
              "\n",
              "       LongShots  Aggression  Interceptions  Positioning  Vision  Penalties  \\\n",
              "0           94.0        48.0           22.0         94.0    94.0       75.0   \n",
              "1           93.0        63.0           29.0         95.0    82.0       85.0   \n",
              "2           82.0        56.0           36.0         89.0    87.0       81.0   \n",
              "3           12.0        38.0           30.0         12.0    68.0       40.0   \n",
              "4           91.0        76.0           61.0         87.0    94.0       79.0   \n",
              "...          ...         ...            ...          ...     ...        ...   \n",
              "18202       38.0        46.0           46.0         39.0    52.0       43.0   \n",
              "18203       42.0        47.0           16.0         46.0    33.0       43.0   \n",
              "18204       45.0        32.0           15.0         48.0    43.0       55.0   \n",
              "18205       34.0        33.0           22.0         44.0    47.0       50.0   \n",
              "18206       32.0        56.0           42.0         34.0    49.0       33.0   \n",
              "\n",
              "       Composure  Marking  StandingTackle  SlidingTackle  GKDiving  \\\n",
              "0           96.0     33.0            28.0           26.0       6.0   \n",
              "1           95.0     28.0            31.0           23.0       7.0   \n",
              "2           94.0     27.0            24.0           33.0       9.0   \n",
              "3           68.0     15.0            21.0           13.0      90.0   \n",
              "4           88.0     68.0            58.0           51.0      15.0   \n",
              "...          ...      ...             ...            ...       ...   \n",
              "18202       45.0     40.0            48.0           47.0      10.0   \n",
              "18203       42.0     22.0            15.0           19.0      10.0   \n",
              "18204       41.0     32.0            13.0           11.0       6.0   \n",
              "18205       46.0     20.0            25.0           27.0      14.0   \n",
              "18206       43.0     40.0            43.0           50.0      10.0   \n",
              "\n",
              "       GKHandling  GKKicking  GKPositioning  GKReflexes  Release Clause  \\\n",
              "0            11.0       15.0           14.0         8.0     226500000.0   \n",
              "1            11.0       15.0           14.0        11.0     127100000.0   \n",
              "2             9.0       15.0           15.0        11.0     228100000.0   \n",
              "3            85.0       87.0           88.0        94.0     138600000.0   \n",
              "4            13.0        5.0           10.0        13.0     196400000.0   \n",
              "...           ...        ...            ...         ...             ...   \n",
              "18202        13.0        7.0            8.0         9.0        143000.0   \n",
              "18203         9.0        9.0            5.0        12.0        113000.0   \n",
              "18204         5.0       10.0            6.0        13.0        165000.0   \n",
              "18205         6.0       14.0            8.0         9.0        143000.0   \n",
              "18206        15.0        9.0           12.0         9.0        165000.0   \n",
              "\n",
              "       Attack Work Rate  Defense Work Rate  \n",
              "0                     2                  2  \n",
              "1                     0                  1  \n",
              "2                     0                  2  \n",
              "3                     2                  2  \n",
              "4                     0                  0  \n",
              "...                 ...                ...  \n",
              "18202                 2                  2  \n",
              "18203                 2                  2  \n",
              "18204                 2                  2  \n",
              "18205                 2                  2  \n",
              "18206                 2                  2  \n",
              "\n",
              "[18147 rows x 82 columns]"
            ]
          },
          "metadata": {
            "tags": []
          },
          "execution_count": 29
        }
      ]
    },
    {
      "cell_type": "code",
      "metadata": {
        "id": "Twap4Jgwh4bf"
      },
      "source": [
        "d.to_csv('/content/drive/My Drive/Fifa 19/clean-data-2.csv', index = False)"
      ],
      "execution_count": null,
      "outputs": []
    },
    {
      "cell_type": "code",
      "metadata": {
        "id": "R_F2dsbohdqh"
      },
      "source": [
        "\n",
        "from bs4 import BeautifulSoup\n",
        "\n",
        "soup = BeautifulSoup(open('/content/drive/My Drive/Fifa 19/club_rankings.html'), \"html.parser\")"
      ],
      "execution_count": null,
      "outputs": []
    },
    {
      "cell_type": "code",
      "metadata": {
        "id": "7huALs_8hRmb"
      },
      "source": [
        "\n",
        "table = soup.find(\"table\", attrs={\"class\":\"t1\"})\n"
      ],
      "execution_count": null,
      "outputs": []
    },
    {
      "cell_type": "code",
      "metadata": {
        "id": "cPOqZVzWjYAO"
      },
      "source": [
        "# The first tr contains the field names.\n",
        "headings= ['rank', 'position_change', 'club', 'country', '11/12', '12/13', '13/14', '14/15', '15/16', '16/17', '17/18', '18/19', '19/20', '20/21', 'TitlePoints', 'CountryPart', 'TotalPoints']\n",
        "\n",
        "csv_file = open('/content/drive/My Drive/Fifa 19/club_rank.csv', 'w')  \n",
        "writer = csv.DictWriter(csv_file, fieldnames=headings)\n",
        "writer.writeheader()\n",
        "datasets = []\n",
        "for row in table.find_all(\"tr\")[1:]:\n",
        "    d1 =  [td.get_text() for td in row.find_all(\"th\")]\n",
        "    d2 = [td.get_text() for td in row.find_all(\"td\")]\n",
        "    d = d2 + d1\n",
        "\n",
        "    datasets.append(d)\n",
        "    dct ={}\n",
        "    for  i, h in enumerate(headings):\n",
        "      dct[h] = d[i]\n",
        "    print (dct)\n",
        "    writer.writerow(dct)\n",
        "for dataset in datasets:\n",
        "  print (dataset)"
      ],
      "execution_count": null,
      "outputs": []
    },
    {
      "cell_type": "code",
      "metadata": {
        "id": "cV4X8vys_TKQ"
      },
      "source": [
        "csv_file.close()"
      ],
      "execution_count": null,
      "outputs": []
    },
    {
      "cell_type": "code",
      "metadata": {
        "id": "HBIQP7HwENjY"
      },
      "source": [
        "cdf = (set(df['Club']))\n",
        "ccr = set(cr['club'])\n",
        "common = list(set(ccr).intersection((cdf)))"
      ],
      "execution_count": null,
      "outputs": []
    },
    {
      "cell_type": "code",
      "metadata": {
        "id": "dOyHMlNwAp4L"
      },
      "source": [
        "ccr=  [i.lower() for i in ccr]\n",
        "ccr"
      ],
      "execution_count": null,
      "outputs": []
    },
    {
      "cell_type": "code",
      "metadata": {
        "colab": {
          "base_uri": "https://localhost:8080/"
        },
        "id": "YNgfvzBIEd5W",
        "outputId": "e4dfbf23-0451-4726-dec4-903ba6641d2d"
      },
      "source": [
        "len(cdf)"
      ],
      "execution_count": null,
      "outputs": [
        {
          "output_type": "execute_result",
          "data": {
            "text/plain": [
              "652"
            ]
          },
          "metadata": {
            "tags": []
          },
          "execution_count": 83
        }
      ]
    },
    {
      "cell_type": "code",
      "metadata": {
        "colab": {
          "base_uri": "https://localhost:8080/"
        },
        "id": "-wQdYgTdE1P4",
        "outputId": "f5fe74e7-3683-4209-be88-f8db5719e7dd"
      },
      "source": [
        "len(common)"
      ],
      "execution_count": null,
      "outputs": [
        {
          "output_type": "execute_result",
          "data": {
            "text/plain": [
              "120"
            ]
          },
          "metadata": {
            "tags": []
          },
          "execution_count": 78
        }
      ]
    },
    {
      "cell_type": "code",
      "metadata": {
        "id": "sITq6hmRFRAh"
      },
      "source": [
        "common = list(common)"
      ],
      "execution_count": null,
      "outputs": []
    }
  ]
}