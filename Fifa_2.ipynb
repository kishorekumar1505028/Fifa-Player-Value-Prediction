{
  "nbformat": 4,
  "nbformat_minor": 0,
  "metadata": {
    "colab": {
      "name": "Fifa-2.ipynb",
      "provenance": []
    },
    "kernelspec": {
      "name": "python3",
      "display_name": "Python 3"
    },
    "accelerator": "GPU"
  },
  "cells": [
    {
      "cell_type": "code",
      "metadata": {
        "colab": {
          "base_uri": "https://localhost:8080/"
        },
        "id": "YShN0bETSXpF",
        "outputId": "e8467d1d-98d0-42bb-de40-4f3bb376120b"
      },
      "source": [
        "!pip install eli5"
      ],
      "execution_count": null,
      "outputs": [
        {
          "output_type": "stream",
          "text": [
            "Collecting eli5\n",
            "\u001b[?25l  Downloading https://files.pythonhosted.org/packages/97/2f/c85c7d8f8548e460829971785347e14e45fa5c6617da374711dec8cb38cc/eli5-0.10.1-py2.py3-none-any.whl (105kB)\n",
            "\r\u001b[K     |███                             | 10kB 26.9MB/s eta 0:00:01\r\u001b[K     |██████▏                         | 20kB 33.1MB/s eta 0:00:01\r\u001b[K     |█████████▎                      | 30kB 26.3MB/s eta 0:00:01\r\u001b[K     |████████████▍                   | 40kB 30.1MB/s eta 0:00:01\r\u001b[K     |███████████████▌                | 51kB 28.1MB/s eta 0:00:01\r\u001b[K     |██████████████████▋             | 61kB 30.9MB/s eta 0:00:01\r\u001b[K     |█████████████████████▊          | 71kB 18.8MB/s eta 0:00:01\r\u001b[K     |████████████████████████▊       | 81kB 20.2MB/s eta 0:00:01\r\u001b[K     |███████████████████████████▉    | 92kB 18.4MB/s eta 0:00:01\r\u001b[K     |███████████████████████████████ | 102kB 18.4MB/s eta 0:00:01\r\u001b[K     |████████████████████████████████| 112kB 18.4MB/s \n",
            "\u001b[?25hRequirement already satisfied: numpy>=1.9.0 in /usr/local/lib/python3.6/dist-packages (from eli5) (1.19.4)\n",
            "Requirement already satisfied: graphviz in /usr/local/lib/python3.6/dist-packages (from eli5) (0.10.1)\n",
            "Requirement already satisfied: tabulate>=0.7.7 in /usr/local/lib/python3.6/dist-packages (from eli5) (0.8.7)\n",
            "Requirement already satisfied: scikit-learn>=0.18 in /usr/local/lib/python3.6/dist-packages (from eli5) (0.22.2.post1)\n",
            "Requirement already satisfied: scipy in /usr/local/lib/python3.6/dist-packages (from eli5) (1.4.1)\n",
            "Requirement already satisfied: attrs>16.0.0 in /usr/local/lib/python3.6/dist-packages (from eli5) (20.3.0)\n",
            "Requirement already satisfied: jinja2 in /usr/local/lib/python3.6/dist-packages (from eli5) (2.11.2)\n",
            "Requirement already satisfied: six in /usr/local/lib/python3.6/dist-packages (from eli5) (1.15.0)\n",
            "Requirement already satisfied: joblib>=0.11 in /usr/local/lib/python3.6/dist-packages (from scikit-learn>=0.18->eli5) (1.0.0)\n",
            "Requirement already satisfied: MarkupSafe>=0.23 in /usr/local/lib/python3.6/dist-packages (from jinja2->eli5) (1.1.1)\n",
            "Installing collected packages: eli5\n",
            "Successfully installed eli5-0.10.1\n"
          ],
          "name": "stdout"
        }
      ]
    },
    {
      "cell_type": "code",
      "metadata": {
        "colab": {
          "base_uri": "https://localhost:8080/"
        },
        "id": "265slX9iSgc8",
        "outputId": "db0018c0-54c9-4415-fc80-3037e3ba2b44"
      },
      "source": [
        "import numpy as np\n",
        "import pandas as pd\n",
        "import seaborn as sns\n",
        "import matplotlib.pyplot as plt\n",
        "import eli5\n",
        "from eli5.sklearn import PermutationImportance\n",
        "from collections import Counter\n",
        "import missingno as msno\n",
        "from collections import defaultdict\n",
        "\n",
        "import csv\n",
        "import warnings\n",
        "warnings.filterwarnings('ignore')\n",
        "import plotly\n",
        "sns.set_style('darkgrid')"
      ],
      "execution_count": null,
      "outputs": [
        {
          "output_type": "stream",
          "text": [
            "/usr/local/lib/python3.6/dist-packages/sklearn/utils/deprecation.py:144: FutureWarning: The sklearn.metrics.scorer module is  deprecated in version 0.22 and will be removed in version 0.24. The corresponding classes / functions should instead be imported from sklearn.metrics. Anything that cannot be imported from sklearn.metrics is now part of the private API.\n",
            "  warnings.warn(message, FutureWarning)\n",
            "/usr/local/lib/python3.6/dist-packages/sklearn/utils/deprecation.py:144: FutureWarning: The sklearn.feature_selection.base module is  deprecated in version 0.22 and will be removed in version 0.24. The corresponding classes / functions should instead be imported from sklearn.feature_selection. Anything that cannot be imported from sklearn.feature_selection is now part of the private API.\n",
            "  warnings.warn(message, FutureWarning)\n"
          ],
          "name": "stderr"
        }
      ]
    },
    {
      "cell_type": "code",
      "metadata": {
        "colab": {
          "base_uri": "https://localhost:8080/"
        },
        "id": "RBV-nXl9SlVZ",
        "outputId": "1740cf79-df16-4cbe-ee89-2cbec2053842"
      },
      "source": [
        "from google.colab import drive\n",
        "drive.mount('/content/drive')"
      ],
      "execution_count": null,
      "outputs": [
        {
          "output_type": "stream",
          "text": [
            "Mounted at /content/drive\n"
          ],
          "name": "stdout"
        }
      ]
    },
    {
      "cell_type": "code",
      "metadata": {
        "id": "dXyI17tJMdP2"
      },
      "source": [
        "cr= pd.read_csv('/content/drive/My Drive/Fifa 19/club_rank.csv', index_col = False)\n",
        "df = pd.read_csv('/content/drive/My Drive/Fifa 19/clean-data-2.csv', index_col = False)"
      ],
      "execution_count": null,
      "outputs": []
    },
    {
      "cell_type": "code",
      "metadata": {
        "id": "aGBWkezycO5p"
      },
      "source": [
        "nation_rt = pd.read_csv('/content/drive/My Drive/Fifa 19/nation_rating.csv', index_col = False)\n",
        "nation_rt = nation_rt.loc[nation_rt['rank_date'] == '2020-11-26']\n",
        "nt = nation_rt[['country_full','total_points' ]].copy()\n",
        "nt = nt.sort_values(by=['total_points'], ascending = False)\n",
        "nt = nt.rename(columns={\"country_full\": \"Nationality\"})"
      ],
      "execution_count": null,
      "outputs": []
    },
    {
      "cell_type": "code",
      "metadata": {
        "colab": {
          "base_uri": "https://localhost:8080/"
        },
        "id": "DB2PN3c7eKZ0",
        "outputId": "02b0085e-564f-43ad-a866-fa86bd6efcef"
      },
      "source": [
        "un_n = (set(df['Nationality']))\n",
        "mn= set(nt['Nationality'])\n",
        "common = (mn).intersection(un_n)\n",
        "print (len(common))\n",
        "print(common)\n",
        "und= un_n.difference(mn)\n",
        "print(len(und), sorted(und))"
      ],
      "execution_count": null,
      "outputs": [
        {
          "output_type": "stream",
          "text": [
            "164\n",
            "{'Senegal', 'Poland', 'Israel', 'Austria', 'Togo', 'Malta', 'Barbados', 'South Sudan', 'Ethiopia', 'Jamaica', 'Korea DPR', 'Belize', 'Cameroon', 'Gambia', 'Bolivia', 'Namibia', 'Republic of Ireland', 'Iceland', 'Greece', 'Mauritania', 'Germany', 'El Salvador', 'Norway', 'Luxembourg', 'Iraq', 'Slovenia', 'Turkey', 'Guinea Bissau', 'Niger', 'St Kitts Nevis', 'Nicaragua', 'Bosnia Herzegovina', 'Gabon', 'Canada', 'Cyprus', 'Estonia', 'Egypt', 'Scotland', 'Mozambique', 'Benin', 'Eritrea', 'Denmark', 'Burundi', 'France', 'Thailand', 'Slovakia', 'Saudi Arabia', 'Ecuador', 'Burkina Faso', 'Kosovo', 'Mali', 'Liechtenstein', 'Bermuda', 'Czech Republic', 'Armenia', 'Indonesia', 'Rwanda', 'Morocco', 'Uzbekistan', 'Latvia', 'Peru', 'Kuwait', 'Libya', 'China PR', 'Sweden', 'Mexico', 'Lebanon', 'Wales', 'Hungary', 'Kazakhstan', 'Belarus', 'Georgia', 'Kenya', 'United States', 'Ivory Coast', 'Trinidad & Tobago', 'Fiji', 'Qatar', 'Chile', 'Spain', 'Switzerland', 'Grenada', 'Montserrat', 'Oman', 'New Caledonia', 'Russia', 'Dominican Republic', 'Argentina', 'Mauritius', 'Puerto Rico', 'Lithuania', 'South Africa', 'Equatorial Guinea', 'DR Congo', 'Zambia', 'Syria', 'Brazil', 'Serbia', 'Italy', 'Angola', 'United Arab Emirates', 'São Tomé & Príncipe', 'Tunisia', 'Venezuela', 'Montenegro', 'Chad', 'Botswana', 'Afghanistan', 'Iran', 'Northern Ireland', 'Ghana', 'Liberia', 'Belgium', 'Guam', 'Uruguay', 'Honduras', 'Moldova', 'Central African Rep.', 'Finland', 'Cuba', 'Philippines', 'Sierra Leone', 'Curacao', 'Panama', 'FYR Macedonia', 'Palestine', 'Guatemala', 'Costa Rica', 'Suriname', 'Guinea', 'Madagascar', 'Zimbabwe', 'Paraguay', 'Netherlands', 'Algeria', 'Congo', 'Australia', 'Nigeria', 'Japan', 'Jordan', 'Haiti', 'New Zealand', 'Portugal', 'Albania', 'Ukraine', 'India', 'Sudan', 'Bulgaria', 'Antigua & Barbuda', 'Romania', 'Guyana', 'Comoros', 'Korea Republic', 'Uganda', 'Faroe Islands', 'England', 'Hong Kong', 'Andorra', 'Colombia', 'Cape Verde', 'Tanzania', 'Azerbaijan', 'St Lucia', 'Croatia'}\n",
            "0 []\n"
          ],
          "name": "stdout"
        }
      ]
    },
    {
      "cell_type": "code",
      "metadata": {
        "id": "xRVozHHHrMgg"
      },
      "source": [
        ""
      ],
      "execution_count": null,
      "outputs": []
    },
    {
      "cell_type": "code",
      "metadata": {
        "id": "wzEgFRe6g5v6"
      },
      "source": [
        "nt[\"Nationality\"].replace({\"Antigua and Barbuda\": \"Antigua & Barbuda\" , \"Bosnia and Herzegovina\" : \"Bosnia Herzegovina\",\"Cabo Verde\":\"Cape Verde\",\"Central African Republic\":\"Central African Rep.\",\"Curaçao\":\"Curacao\",\"Congo DR\":\"DR Congo\",\"North Macedonia\":\"FYR Macedonia\",\"Guinea-Bissau\":\"Guinea Bissau\",\"IR Iran\":\"Iran\",\"Côte d'Ivoire\":\"Ivory Coast\",\"St. Kitts and Nevis\":\"St Kitts Nevis\", \"St. Lucia\": \"St Lucia\", \"São Tomé and Príncipe\":\"São Tomé & Príncipe\",\"Trinidad and Tobago\":\"Trinidad & Tobago\", \"USA\": \"United States\"}, inplace=True)"
      ],
      "execution_count": null,
      "outputs": []
    },
    {
      "cell_type": "code",
      "metadata": {
        "id": "Sba1eZOPkiJQ"
      },
      "source": [
        "nt = nt.rename(columns={\"total_points\": \"nation_rating\"})"
      ],
      "execution_count": null,
      "outputs": []
    },
    {
      "cell_type": "code",
      "metadata": {
        "id": "8p-MF0PdgYPM"
      },
      "source": [
        "nt.to_csv('/content/drive/My Drive/Fifa 19/nation.csv', index = False)"
      ],
      "execution_count": null,
      "outputs": []
    },
    {
      "cell_type": "code",
      "metadata": {
        "id": "4eOv2HxIjvDD"
      },
      "source": [
        "nt = pd.read_csv('/content/drive/My Drive/Fifa 19/nation.csv', index_col = False)"
      ],
      "execution_count": null,
      "outputs": []
    },
    {
      "cell_type": "code",
      "metadata": {
        "id": "8Tck2BAzj0b_"
      },
      "source": [
        "nt"
      ],
      "execution_count": null,
      "outputs": []
    },
    {
      "cell_type": "code",
      "metadata": {
        "id": "T1RRwdd4TEKM",
        "colab": {
          "base_uri": "https://localhost:8080/",
          "height": 419
        },
        "outputId": "5f9ce94d-0a61-4611-fd98-235d87b8e51c"
      },
      "source": [
        "avg_club = df.groupby('Club').Overall.mean().reset_index().sort_values(by='Overall', ascending=False)\n",
        "avg_club = avg_club.rename(columns={\"Overall\": \"Club_overall\"})\n",
        "(avg_club)\n",
        "\n"
      ],
      "execution_count": null,
      "outputs": [
        {
          "output_type": "execute_result",
          "data": {
            "text/html": [
              "<div>\n",
              "<style scoped>\n",
              "    .dataframe tbody tr th:only-of-type {\n",
              "        vertical-align: middle;\n",
              "    }\n",
              "\n",
              "    .dataframe tbody tr th {\n",
              "        vertical-align: top;\n",
              "    }\n",
              "\n",
              "    .dataframe thead th {\n",
              "        text-align: right;\n",
              "    }\n",
              "</style>\n",
              "<table border=\"1\" class=\"dataframe\">\n",
              "  <thead>\n",
              "    <tr style=\"text-align: right;\">\n",
              "      <th></th>\n",
              "      <th>Club</th>\n",
              "      <th>Club_overall</th>\n",
              "    </tr>\n",
              "  </thead>\n",
              "  <tbody>\n",
              "    <tr>\n",
              "      <th>327</th>\n",
              "      <td>Juventus</td>\n",
              "      <td>82.280000</td>\n",
              "    </tr>\n",
              "    <tr>\n",
              "      <th>399</th>\n",
              "      <td>Napoli</td>\n",
              "      <td>80.000000</td>\n",
              "    </tr>\n",
              "    <tr>\n",
              "      <th>316</th>\n",
              "      <td>Inter</td>\n",
              "      <td>79.750000</td>\n",
              "    </tr>\n",
              "    <tr>\n",
              "      <th>471</th>\n",
              "      <td>Real Madrid</td>\n",
              "      <td>78.242424</td>\n",
              "    </tr>\n",
              "    <tr>\n",
              "      <th>383</th>\n",
              "      <td>Milan</td>\n",
              "      <td>78.074074</td>\n",
              "    </tr>\n",
              "    <tr>\n",
              "      <th>...</th>\n",
              "      <td>...</td>\n",
              "      <td>...</td>\n",
              "    </tr>\n",
              "    <tr>\n",
              "      <th>544</th>\n",
              "      <td>Sligo Rovers</td>\n",
              "      <td>56.631579</td>\n",
              "    </tr>\n",
              "    <tr>\n",
              "      <th>188</th>\n",
              "      <td>Derry City</td>\n",
              "      <td>55.777778</td>\n",
              "    </tr>\n",
              "    <tr>\n",
              "      <th>83</th>\n",
              "      <td>Bohemian FC</td>\n",
              "      <td>55.000000</td>\n",
              "    </tr>\n",
              "    <tr>\n",
              "      <th>362</th>\n",
              "      <td>Limerick FC</td>\n",
              "      <td>54.526316</td>\n",
              "    </tr>\n",
              "    <tr>\n",
              "      <th>92</th>\n",
              "      <td>Bray Wanderers</td>\n",
              "      <td>53.652174</td>\n",
              "    </tr>\n",
              "  </tbody>\n",
              "</table>\n",
              "<p>652 rows × 2 columns</p>\n",
              "</div>"
            ],
            "text/plain": [
              "               Club  Club_overall\n",
              "327        Juventus     82.280000\n",
              "399          Napoli     80.000000\n",
              "316           Inter     79.750000\n",
              "471     Real Madrid     78.242424\n",
              "383           Milan     78.074074\n",
              "..              ...           ...\n",
              "544    Sligo Rovers     56.631579\n",
              "188      Derry City     55.777778\n",
              "83      Bohemian FC     55.000000\n",
              "362     Limerick FC     54.526316\n",
              "92   Bray Wanderers     53.652174\n",
              "\n",
              "[652 rows x 2 columns]"
            ]
          },
          "metadata": {
            "tags": []
          },
          "execution_count": 6
        }
      ]
    },
    {
      "cell_type": "code",
      "metadata": {
        "id": "7kfbtpL6UqVy"
      },
      "source": [
        "fdf = (pd.merge(df, avg_club, on='Club'))\n"
      ],
      "execution_count": null,
      "outputs": []
    },
    {
      "cell_type": "code",
      "metadata": {
        "id": "1gXIaQcckatr"
      },
      "source": [
        "fdf = (pd.merge(fdf, nt, on='Nationality'))"
      ],
      "execution_count": null,
      "outputs": []
    },
    {
      "cell_type": "code",
      "metadata": {
        "id": "0nXqb_vql-Ts"
      },
      "source": [
        "for index in fdf.index:\n",
        "  if fdf.at[index, 'Club']=='Free Agent':\n",
        "    fdf.at[index,'Club_overall'] = 0\n",
        "\n",
        "fdf"
      ],
      "execution_count": null,
      "outputs": []
    },
    {
      "cell_type": "code",
      "metadata": {
        "id": "T6iu8nbEpdT1"
      },
      "source": [
        "sorted(set(fdf['Loaned From']))"
      ],
      "execution_count": null,
      "outputs": []
    },
    {
      "cell_type": "code",
      "metadata": {
        "id": "YdiNz7s2ByEM"
      },
      "source": [
        "for index in fdf.index:\n",
        "  if fdf.at[index, 'Loaned From']=='None':\n",
        "    fdf.at[index,'Loaned From'] = 0\n",
        "  else:\n",
        "    fdf.at[index,'Loaned From'] = 1\n"
      ],
      "execution_count": null,
      "outputs": []
    },
    {
      "cell_type": "code",
      "metadata": {
        "id": "okQTpvfQBhrI"
      },
      "source": [
        "fdf[fdf['Loaned From']==0]"
      ],
      "execution_count": null,
      "outputs": []
    },
    {
      "cell_type": "code",
      "metadata": {
        "id": "ILinnYLMCEzc"
      },
      "source": [
        "fdf['Loaned From']= fdf['Loaned From'].astype(int)  "
      ],
      "execution_count": null,
      "outputs": []
    },
    {
      "cell_type": "code",
      "metadata": {
        "id": "W0uESLD_Dkyh"
      },
      "source": [
        "#fdf.drop(['Nationality', 'Club'], axis= 1,  inplace= True)"
      ],
      "execution_count": null,
      "outputs": []
    },
    {
      "cell_type": "code",
      "metadata": {
        "id": "vhbuSxEqCZ3B"
      },
      "source": [
        "cat_cols = ['Preferred Foot', 'Loaned From']"
      ],
      "execution_count": null,
      "outputs": []
    },
    {
      "cell_type": "code",
      "metadata": {
        "id": "p7cK77uISdzh"
      },
      "source": [
        "pd.options.display.float_format = '{:.4f}'.format"
      ],
      "execution_count": null,
      "outputs": []
    },
    {
      "cell_type": "code",
      "metadata": {
        "colab": {
          "base_uri": "https://localhost:8080/"
        },
        "id": "dxuevD1PTM6Z",
        "outputId": "f113ee33-7ee7-4237-aeb9-28a59fc0138e"
      },
      "source": [
        "tdf = fdf.copy()\n",
        "tdf['Release Clause'].apply(float.is_integer).all()"
      ],
      "execution_count": null,
      "outputs": [
        {
          "output_type": "execute_result",
          "data": {
            "text/plain": [
              "False"
            ]
          },
          "metadata": {
            "tags": []
          },
          "execution_count": 12
        }
      ]
    },
    {
      "cell_type": "markdown",
      "metadata": {
        "id": "4bid7NU0oU9j"
      },
      "source": [
        "Make data column type int if the column has only integer values"
      ]
    },
    {
      "cell_type": "code",
      "metadata": {
        "id": "4ZnST8elMRiL"
      },
      "source": [
        "for col in tdf.select_dtypes(include='float').keys().tolist():\n",
        "  print (col, ': ', len(set(tdf[col])))\n",
        "  if tdf[col].apply(float.is_integer).all() == True:\n",
        "    tdf[col] = tdf[col].astype(int)"
      ],
      "execution_count": null,
      "outputs": []
    },
    {
      "cell_type": "code",
      "metadata": {
        "id": "WxfvPbA5Picl"
      },
      "source": [
        "# run the same code for 'Attack Work Rate' also\n",
        "for index in tdf.index:\n",
        "  if tdf.at[index, 'Defense Work Rate']!= -1:\n",
        "    #print (index)\n",
        "    tdf.at[index,'Defense Work Rate'] = tdf.at[index,'Defense Work Rate']  +1\n"
      ],
      "execution_count": null,
      "outputs": []
    },
    {
      "cell_type": "code",
      "metadata": {
        "id": "Xwt66MvqqrMg"
      },
      "source": [
        "for index in tdf.index:\n",
        "  if tdf.at[index, 'Attack Work Rate']!= -1:\n",
        "    #print (index)\n",
        "    tdf.at[index,'Attack Work Rate'] = tdf.at[index,'Attack Work Rate']  +1\n"
      ],
      "execution_count": null,
      "outputs": []
    },
    {
      "cell_type": "code",
      "metadata": {
        "id": "XazaTohXC6Ov"
      },
      "source": [
        "tdf.to_csv('/content/drive/My Drive/Fifa 19/common_data.csv', index = False)"
      ],
      "execution_count": null,
      "outputs": []
    },
    {
      "cell_type": "code",
      "metadata": {
        "id": "gfVJqHCA-13X"
      },
      "source": [
        "tdf = pd.read_csv('/content/drive/My Drive/Fifa 19/common_data.csv', index_col = False)"
      ],
      "execution_count": null,
      "outputs": []
    },
    {
      "cell_type": "code",
      "metadata": {
        "id": "d0UFgmhuQE-9"
      },
      "source": [
        "!pip install git+https://github.com/MaxHalford/xam --upgrade\n",
        "import xam"
      ],
      "execution_count": null,
      "outputs": []
    },
    {
      "cell_type": "code",
      "metadata": {
        "colab": {
          "base_uri": "https://localhost:8080/",
          "height": 412
        },
        "id": "bxY4ZDgHnPjf",
        "outputId": "88999eb7-ce72-4563-fc2d-775c9149334e"
      },
      "source": [
        "jd = tdf['Position'].value_counts(ascending=True).to_dict()\n",
        "plt.rcParams['figure.figsize'] = [30, 10]\n",
        "plt.bar(*zip(*jd.items()))\n",
        "plt.show()"
      ],
      "execution_count": null,
      "outputs": [
        {
          "output_type": "display_data",
          "data": {
            "image/png": "[encoded data removed]",
            "text/plain": [
              "<Figure size 2160x720 with 1 Axes>"
            ]
          },
          "metadata": {
            "tags": []
          }
        }
      ]
    },
    {
      "cell_type": "code",
      "metadata": {
        "colab": {
          "base_uri": "https://localhost:8080/"
        },
        "id": "IVSQj5pTQp3S",
        "outputId": "8bd553ef-2e09-4c0f-a9ef-3893a96f304b"
      },
      "source": [
        "encoder = xam.feature_extraction.BayesianTargetEncoder(columns=['Position'],  prior_weight=200,suffix='')\n",
        "encoder.fit_transform(fdf, fdf['Value'])\n",
        "fdf['Position']"
      ],
      "execution_count": null,
      "outputs": [
        {
          "output_type": "execute_result",
          "data": {
            "text/plain": [
              "0       3169170.4641\n",
              "1       3445794.5128\n",
              "2       2688195.4836\n",
              "3       1660593.6271\n",
              "4       1669734.9951\n",
              "            ...     \n",
              "18142   1669734.9951\n",
              "18143   3669289.4846\n",
              "18144   3669289.4846\n",
              "18145   1669734.9951\n",
              "18146   2870614.1748\n",
              "Name: Position, Length: 18147, dtype: float64"
            ]
          },
          "metadata": {
            "tags": []
          },
          "execution_count": 73
        }
      ]
    },
    {
      "cell_type": "code",
      "metadata": {
        "colab": {
          "base_uri": "https://localhost:8080/",
          "height": 413
        },
        "id": "MYCzQu7rSWBh",
        "outputId": "5a5e6feb-35e6-495c-e081-cc658c160499"
      },
      "source": [
        "jd = tdf['Jersey Number'].value_counts(ascending=True).to_dict()\n",
        "plt.bar(*zip(*jd.items()))\n",
        "plt.show()"
      ],
      "execution_count": null,
      "outputs": [
        {
          "output_type": "display_data",
          "data": {
            "image/png": "[encoded data removed]",
            "text/plain": [
              "<Figure size 2160x720 with 1 Axes>"
            ]
          },
          "metadata": {
            "tags": []
          }
        }
      ]
    },
    {
      "cell_type": "code",
      "metadata": {
        "id": "9nbYdBgRV7MX"
      },
      "source": [
        "encoder = xam.feature_extraction.BayesianTargetEncoder(columns=['Jersey Number'],  prior_weight=150,suffix='')\n",
        "encoder.fit_transform(tdf, tdf['Value'])\n",
        "#tdf['Joined']"
      ],
      "execution_count": null,
      "outputs": []
    },
    {
      "cell_type": "code",
      "metadata": {
        "id": "sS1t78beuk_p"
      },
      "source": [
        "cols = ['Contract Valid Until', 'Joined']\n",
        "for col in cols:\n",
        "  mn = sorted(set (tdf[col]))[1]\n",
        "  for index in tdf.index:\n",
        "    \n",
        "    if tdf.at[index, col]!= -1:\n",
        "      #print (index)\n",
        "      tdf.at[index,col] = tdf.at[index,col]  - mn + 1\n",
        "    else:\n",
        "      tdf.at[index,col] = 0"
      ],
      "execution_count": null,
      "outputs": []
    },
    {
      "cell_type": "code",
      "metadata": {
        "id": "Ru3xzX2uvsDQ"
      },
      "source": [
        "tdf"
      ],
      "execution_count": null,
      "outputs": []
    },
    {
      "cell_type": "code",
      "metadata": {
        "colab": {
          "base_uri": "https://localhost:8080/",
          "height": 612
        },
        "id": "3u_xRQ66ml7a",
        "outputId": "54d1efda-844c-4d23-bab6-b9509af051c4"
      },
      "source": [
        "jd = tdf['Contract Valid Until'].value_counts(ascending=True).to_dict()\n",
        "plt.bar(*zip(*jd.items()))\n",
        "plt.show()"
      ],
      "execution_count": null,
      "outputs": [
        {
          "output_type": "display_data",
          "data": {
            "image/png": "[encoded data removed]",
            "text/plain": [
              "<Figure size 2160x720 with 1 Axes>"
            ]
          },
          "metadata": {
            "tags": []
          }
        }
      ]
    },
    {
      "cell_type": "code",
      "metadata": {
        "id": "h2fYBPnVa1Yu",
        "colab": {
          "base_uri": "https://localhost:8080/"
        },
        "outputId": "650fc4fe-779e-4eb7-83bd-84028f6696d9"
      },
      "source": [
        "encoder = xam.feature_extraction.BayesianTargetEncoder(columns=['Contract Valid Until'],  prior_weight=200,suffix='')\n",
        "encoder.fit_transform(fdf, fdf['Value'])\n",
        "fdf['Contract Valid Until']"
      ],
      "execution_count": null,
      "outputs": [
        {
          "output_type": "execute_result",
          "data": {
            "text/plain": [
              "0       2564187.6799\n",
              "1       5112660.0001\n",
              "2       2564187.6799\n",
              "3       2564187.6799\n",
              "4       2564187.6799\n",
              "            ...     \n",
              "18142   1533517.2909\n",
              "18143   1533517.2909\n",
              "18144   1533517.2909\n",
              "18145   2148925.7352\n",
              "18146   2148925.7352\n",
              "Name: Contract Valid Until, Length: 18147, dtype: float64"
            ]
          },
          "metadata": {
            "tags": []
          },
          "execution_count": 80
        }
      ]
    },
    {
      "cell_type": "code",
      "metadata": {
        "colab": {
          "base_uri": "https://localhost:8080/",
          "height": 412
        },
        "id": "znH4X87Jnzjl",
        "outputId": "d216fe3c-f744-4f44-c9b9-9619407e5c5e"
      },
      "source": [
        "jd = tdf['Joined'].value_counts(ascending=True).to_dict()\n",
        "plt.bar(*zip(*jd.items()))\n",
        "plt.show()"
      ],
      "execution_count": null,
      "outputs": [
        {
          "output_type": "display_data",
          "data": {
            "image/png": "[encoded data removed]",
            "text/plain": [
              "<Figure size 2160x720 with 1 Axes>"
            ]
          },
          "metadata": {
            "tags": []
          }
        }
      ]
    },
    {
      "cell_type": "code",
      "metadata": {
        "colab": {
          "base_uri": "https://localhost:8080/"
        },
        "id": "-eN2kcJwn6dm",
        "outputId": "e10f7269-3b59-4562-ab5f-e64642f6caa1"
      },
      "source": [
        "encoder = xam.feature_extraction.BayesianTargetEncoder(columns=['Joined'],  prior_weight=1000,suffix='')\n",
        "encoder.fit_transform(fdf, fdf['Value'])\n",
        "fdf['Joined']"
      ],
      "execution_count": null,
      "outputs": [
        {
          "output_type": "execute_result",
          "data": {
            "text/plain": [
              "0       2512568.2818\n",
              "1       2942765.0262\n",
              "2       2942765.0262\n",
              "3       2942765.0262\n",
              "4       2926773.4330\n",
              "            ...     \n",
              "18142   2942765.0262\n",
              "18143   1979584.3706\n",
              "18144   2179681.3833\n",
              "18145   1979584.3706\n",
              "18146   2179681.3833\n",
              "Name: Joined, Length: 18147, dtype: float64"
            ]
          },
          "metadata": {
            "tags": []
          },
          "execution_count": 81
        }
      ]
    },
    {
      "cell_type": "code",
      "metadata": {
        "id": "xfh_rfsTqJs4"
      },
      "source": [
        "tdf = tdf.sample(frac=1).reset_index(drop=True)\n"
      ],
      "execution_count": null,
      "outputs": []
    },
    {
      "cell_type": "code",
      "metadata": {
        "id": "8KPGqaEPqPs3"
      },
      "source": [
        "tdf"
      ],
      "execution_count": null,
      "outputs": []
    },
    {
      "cell_type": "code",
      "metadata": {
        "id": "-zOKGWveTmY8"
      },
      "source": [
        "tdf.to_csv('/content/drive/My Drive/Fifa 19/final_data_rec.csv', index = False)"
      ],
      "execution_count": null,
      "outputs": []
    },
    {
      "cell_type": "code",
      "metadata": {
        "id": "MZNB8gjFyVIw"
      },
      "source": [
        "tdf.drop(['Nationality', 'Club'], axis= 1,  inplace= True)"
      ],
      "execution_count": null,
      "outputs": []
    }
  ]
}